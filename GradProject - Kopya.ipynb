{
 "cells": [
  {
   "cell_type": "code",
   "execution_count": 1,
   "metadata": {},
   "outputs": [],
   "source": [
    "Dutch = 'https://www.gutenberg.org/cache/epub/39181/pg39181-images.html'\n",
    "English = \"https://www.gutenberg.org/cache/epub/1004/pg1004-images.html\"\n",
    "Finnish = \"https://www.gutenberg.org/cache/epub/12546/pg12546.html\"\n",
    "German = \"https://www.gutenberg.org/cache/epub/8085/pg8085.html\"\n",
    "Italian = \"https://www.gutenberg.org/cache/epub/1000/pg1000-images.html\"\n",
    "Spanish = \"https://www.gutenberg.org/cache/epub/57303/pg57303-images.html\"\n",
    "\n",
    "languages = [Dutch, German, Italian, English, Spanish, Finnish]\n",
    "names = ['Dutch', 'German', 'Italian', 'English', 'Spanish', 'Finnish']"
   ]
  },
  {
   "cell_type": "code",
   "execution_count": 2,
   "metadata": {},
   "outputs": [],
   "source": [
    "import gensim\n",
    "from gensim.models import word2vec\n",
    "import nltk\n",
    "from nltk.tokenize import sent_tokenize, word_tokenize\n",
    "import gensim.downloader as api\n",
    "import numpy as np\n",
    "from urllib.request import urlopen\n",
    "import re\n",
    "from nltk.corpus import stopwords\n",
    "import pandas as pd\n"
   ]
  },
  {
   "cell_type": "code",
   "execution_count": 3,
   "metadata": {},
   "outputs": [],
   "source": [
    "def data_tokenizer(url, language, encoding = 'utf-8'):\n",
    "    with urlopen(url) as file:\n",
    "        divine_comedy = file.read().decode(encoding)\n",
    "    f = divine_comedy.replace(\"\\n\", \" \")    \n",
    "    f = re.sub(r'[^\\w\\s]', '', f)\n",
    "    data = []\n",
    "    for i in sent_tokenize(f):\n",
    "        temp = []\n",
    "     \n",
    "    # tokenize the sentence into words\n",
    "        for j in word_tokenize(i):\n",
    "            temp.append(j.lower())\n",
    " \n",
    "        data.append(temp)\n",
    "\n",
    "    stop_words = set(nltk.corpus.stopwords.words('english')) | set(nltk.corpus.stopwords.words(language))\n",
    "    [stopped] = [[i for i in j if i not in stop_words] for j in data]\n",
    "    \n",
    "    return stopped"
   ]
  },
  {
   "cell_type": "code",
   "execution_count": 4,
   "metadata": {},
   "outputs": [],
   "source": [
    "tokenized_English = data_tokenizer(English,'English')\n",
    "tokenized_German = data_tokenizer(German,'German')\n",
    "tokenized_Italian = data_tokenizer(Italian,'Italian')\n",
    "tokenized_Dutch = data_tokenizer(Dutch,'Dutch')\n",
    "tokenized_Spanish = data_tokenizer(Spanish,'Spanish')\n",
    "tokenized_Finnish = data_tokenizer(Finnish,'Finnish')\n",
    "tokenized_names = 'tokenized_'+pd.Series(names)\n",
    "tokenized_languages = [tokenized_Dutch, tokenized_German, tokenized_Italian, tokenized_English, tokenized_Spanish, tokenized_Finnish]"
   ]
  },
  {
   "cell_type": "code",
   "execution_count": 5,
   "metadata": {},
   "outputs": [
    {
     "name": "stdout",
     "output_type": "stream",
     "text": [
      "type of tokenized_languages: <class 'list'>\n"
     ]
    }
   ],
   "source": [
    "#type\n",
    "print('type of tokenized_languages:', type(tokenized_languages))"
   ]
  },
  {
   "attachments": {},
   "cell_type": "markdown",
   "metadata": {},
   "source": [
    "def remover(lang):\n",
    "    removed_words = ['p', 'div', 'pg', 'gutenberg', 'project', 'html','doctype', 'pgheader', \n",
    "                     'pgfooter','sectionbody' ,'meta','email', 'http', 'www', 'org', 'cache',\n",
    "                    'epub', 'images', 'image', 'ebook', 'ebooks', 'display','initial','block', 'margintop',\n",
    "                    'marginbottom', 'marginleft', 'marginright', 'paddingtop', 'paddingbottom', 'paddingleft',\n",
    "                    '1em','2em','divagate']\n",
    "    for word in removed_words:\n",
    "        lang = [i for i in lang if i != word]\n",
    "    return lang\n",
    "tokenized_languages = [remover(tokenized_Dutch), remover(tokenized_German), remover(tokenized_Italian), remover(tokenized_English),\n",
    "                       remover(tokenized_Spanish), remover(tokenized_Finnish)]\n"
   ]
  },
  {
   "cell_type": "code",
   "execution_count": 6,
   "metadata": {},
   "outputs": [
    {
     "name": "stdout",
     "output_type": "stream",
     "text": [
      "42769\n",
      "55833\n",
      "70215\n",
      "74499\n",
      "70285\n",
      "88871\n"
     ]
    }
   ],
   "source": [
    "for tk in tokenized_languages:\n",
    "    print(len(tk))"
   ]
  },
  {
   "cell_type": "code",
   "execution_count": 7,
   "metadata": {},
   "outputs": [
    {
     "data": {
      "text/html": [
       "<div>\n",
       "<style scoped>\n",
       "    .dataframe tbody tr th:only-of-type {\n",
       "        vertical-align: middle;\n",
       "    }\n",
       "\n",
       "    .dataframe tbody tr th {\n",
       "        vertical-align: top;\n",
       "    }\n",
       "\n",
       "    .dataframe thead th {\n",
       "        text-align: right;\n",
       "    }\n",
       "</style>\n",
       "<table border=\"1\" class=\"dataframe\">\n",
       "  <thead>\n",
       "    <tr style=\"text-align: right;\">\n",
       "      <th></th>\n",
       "      <th>Dutch</th>\n",
       "      <th>German</th>\n",
       "      <th>Italian</th>\n",
       "      <th>English</th>\n",
       "      <th>Spanish</th>\n",
       "      <th>Finnish</th>\n",
       "    </tr>\n",
       "  </thead>\n",
       "  <tbody>\n",
       "    <tr>\n",
       "      <th>0</th>\n",
       "      <td>doctype</td>\n",
       "      <td>doctype</td>\n",
       "      <td>doctype</td>\n",
       "      <td>doctype</td>\n",
       "      <td>doctype</td>\n",
       "      <td>doctype</td>\n",
       "    </tr>\n",
       "    <tr>\n",
       "      <th>1</th>\n",
       "      <td>html</td>\n",
       "      <td>html</td>\n",
       "      <td>html</td>\n",
       "      <td>html</td>\n",
       "      <td>html</td>\n",
       "      <td>html</td>\n",
       "    </tr>\n",
       "    <tr>\n",
       "      <th>2</th>\n",
       "      <td>html</td>\n",
       "      <td>html</td>\n",
       "      <td>html</td>\n",
       "      <td>html</td>\n",
       "      <td>html</td>\n",
       "      <td>html</td>\n",
       "    </tr>\n",
       "    <tr>\n",
       "      <th>3</th>\n",
       "      <td>langnl</td>\n",
       "      <td>langdeheadmeta</td>\n",
       "      <td>langit</td>\n",
       "      <td>langen</td>\n",
       "      <td>langes</td>\n",
       "      <td>langfiheadmeta</td>\n",
       "    </tr>\n",
       "    <tr>\n",
       "      <th>4</th>\n",
       "      <td>head</td>\n",
       "      <td>charsetutf8style</td>\n",
       "      <td>head</td>\n",
       "      <td>head</td>\n",
       "      <td>head</td>\n",
       "      <td>charsetutf8style</td>\n",
       "    </tr>\n",
       "    <tr>\n",
       "      <th>...</th>\n",
       "      <td>...</td>\n",
       "      <td>...</td>\n",
       "      <td>...</td>\n",
       "      <td>...</td>\n",
       "      <td>...</td>\n",
       "      <td>...</td>\n",
       "    </tr>\n",
       "    <tr>\n",
       "      <th>88866</th>\n",
       "      <td>None</td>\n",
       "      <td>None</td>\n",
       "      <td>None</td>\n",
       "      <td>None</td>\n",
       "      <td>None</td>\n",
       "      <td>hear</td>\n",
       "    </tr>\n",
       "    <tr>\n",
       "      <th>88867</th>\n",
       "      <td>None</td>\n",
       "      <td>None</td>\n",
       "      <td>None</td>\n",
       "      <td>None</td>\n",
       "      <td>None</td>\n",
       "      <td>new</td>\n",
       "    </tr>\n",
       "    <tr>\n",
       "      <th>88868</th>\n",
       "      <td>None</td>\n",
       "      <td>None</td>\n",
       "      <td>None</td>\n",
       "      <td>None</td>\n",
       "      <td>None</td>\n",
       "      <td>ebooks</td>\n",
       "    </tr>\n",
       "    <tr>\n",
       "      <th>88869</th>\n",
       "      <td>None</td>\n",
       "      <td>None</td>\n",
       "      <td>None</td>\n",
       "      <td>None</td>\n",
       "      <td>None</td>\n",
       "      <td>div</td>\n",
       "    </tr>\n",
       "    <tr>\n",
       "      <th>88870</th>\n",
       "      <td>None</td>\n",
       "      <td>None</td>\n",
       "      <td>None</td>\n",
       "      <td>None</td>\n",
       "      <td>None</td>\n",
       "      <td>sectionbodyhtml</td>\n",
       "    </tr>\n",
       "  </tbody>\n",
       "</table>\n",
       "<p>88871 rows × 6 columns</p>\n",
       "</div>"
      ],
      "text/plain": [
       "         Dutch            German  Italian  English  Spanish           Finnish\n",
       "0      doctype           doctype  doctype  doctype  doctype           doctype\n",
       "1         html              html     html     html     html              html\n",
       "2         html              html     html     html     html              html\n",
       "3       langnl    langdeheadmeta   langit   langen   langes    langfiheadmeta\n",
       "4         head  charsetutf8style     head     head     head  charsetutf8style\n",
       "...        ...               ...      ...      ...      ...               ...\n",
       "88866     None              None     None     None     None              hear\n",
       "88867     None              None     None     None     None               new\n",
       "88868     None              None     None     None     None            ebooks\n",
       "88869     None              None     None     None     None               div\n",
       "88870     None              None     None     None     None   sectionbodyhtml\n",
       "\n",
       "[88871 rows x 6 columns]"
      ]
     },
     "execution_count": 7,
     "metadata": {},
     "output_type": "execute_result"
    }
   ],
   "source": [
    "token_df = pd.DataFrame(tokenized_languages).T\n",
    "token_df.columns = names\n",
    "token_df"
   ]
  },
  {
   "cell_type": "code",
   "execution_count": 8,
   "metadata": {},
   "outputs": [],
   "source": [
    "def skipgram(language):\n",
    "    return gensim.models.Word2Vec(language, sorted_vocab = 1, vector_size = 50, sg = 1).wv\n",
    "def cbow(language):\n",
    "    return gensim.models.Word2Vec(language, sorted_vocab = 1, vector_size = 50,sg = 0).wv"
   ]
  },
  {
   "cell_type": "code",
   "execution_count": 9,
   "metadata": {},
   "outputs": [],
   "source": [
    "skipgram_English = skipgram(tokenized_English)\n",
    "cbow_English = cbow(tokenized_English)\n",
    "skipgram_Dutch = skipgram(tokenized_Dutch)\n",
    "cbow_Dutch = cbow(tokenized_Dutch)\n",
    "skipgram_German = skipgram(tokenized_German)\n",
    "cbow_German = cbow(tokenized_German)\n",
    "skipgram_Italian = skipgram(tokenized_Italian)\n",
    "cbow_Italian = cbow(tokenized_Italian)\n",
    "skipgram_Spanish = skipgram(tokenized_Spanish)\n",
    "cbow_Spanish = cbow(tokenized_Spanish)\n",
    "skipgram_Finnish = skipgram(tokenized_Finnish)\n",
    "cbow_Finnish = cbow(tokenized_Finnish)\n",
    " "
   ]
  },
  {
   "cell_type": "code",
   "execution_count": 10,
   "metadata": {},
   "outputs": [],
   "source": [
    "cbow = [cbow_Dutch, cbow_German, cbow_Italian, cbow_English, cbow_Spanish, cbow_Finnish]\n",
    "cbow_names = 'cbow_'+pd.Series(names)\n",
    "skipgram = [skipgram_Dutch, skipgram_German, skipgram_Italian, skipgram_English, skipgram_Spanish, skipgram_Finnish]\n",
    "skipgram_names = 'skipgram_'+pd.Series(names)"
   ]
  },
  {
   "cell_type": "code",
   "execution_count": 11,
   "metadata": {},
   "outputs": [],
   "source": [
    "import matplotlib.pyplot as plt\n",
    "\n",
    "def flat(model):\n",
    "    vocab = list(model.index_to_key)\n",
    "    vectors = model[vocab]\n",
    "    vectors_flatten = vectors.flatten()\n",
    "    return vectors_flatten"
   ]
  },
  {
   "cell_type": "code",
   "execution_count": 12,
   "metadata": {},
   "outputs": [],
   "source": [
    "flat_skipgram_Dutch = flat(skipgram_Dutch)\n",
    "flat_skipgram_German = flat(skipgram_German)\n",
    "flat_skipgram_Italian = flat(skipgram_Italian)\n",
    "flat_skipgram_English = flat(skipgram_English)\n",
    "flat_skipgram_Spanish = flat(skipgram_Spanish)\n",
    "flat_skipgram_Finnish = flat(skipgram_Finnish)\n",
    "\n",
    "flat_cbow_Dutch = flat(cbow_Dutch)\n",
    "flat_cbow_German = flat(cbow_German)\n",
    "flat_cbow_Italian = flat(cbow_Italian)\n",
    "flat_cbow_English = flat(cbow_English)\n",
    "flat_cbow_Spanish = flat(cbow_Spanish)\n",
    "flat_cbow_Finnish = flat(cbow_Finnish)\n"
   ]
  },
  {
   "cell_type": "code",
   "execution_count": 13,
   "metadata": {},
   "outputs": [],
   "source": [
    "var_holder = {}\n",
    "for i in cbow:\n",
    "    langname = names[cbow.index(i)]\n",
    "    var_holder['flat_cbow_' + langname]= flat(i)\n",
    "\n",
    "locals().update(var_holder)\n",
    "flat_cbow_names = 'flat_cbow_'+pd.Series(names)"
   ]
  },
  {
   "cell_type": "code",
   "execution_count": 14,
   "metadata": {},
   "outputs": [
    {
     "data": {
      "image/png": "[encoded data removed]",
      "text/plain": [
       "<Figure size 1440x720 with 1 Axes>"
      ]
     },
     "metadata": {
      "needs_background": "light"
     },
     "output_type": "display_data"
    }
   ],
   "source": [
    "def plot(model, color = 'blue'):\n",
    "    plt.scatter(model[:100], np.arange(0,100), marker=\".\",c= color)\n",
    "plt.figure(figsize=(20,10))\n",
    "plt.title('Contuniuous Bag of Words (CBOW)')\n",
    "#plotting functions against their indexes\n",
    "plot(flat_cbow_Dutch, color = 'blue')\n",
    "plot(flat_cbow_German, color = 'red')\n",
    "plot(flat_cbow_Italian, color = 'green')\n",
    "plot(flat_cbow_English, color = 'yellow')\n",
    "plot(flat_cbow_Spanish, color = 'black')\n",
    "plot(flat_cbow_Finnish, color = 'purple')\n",
    "\n",
    "plt.legend(names)\n",
    "plt.show()"
   ]
  },
  {
   "cell_type": "code",
   "execution_count": 15,
   "metadata": {},
   "outputs": [
    {
     "data": {
      "image/png": "[encoded data removed]",
      "text/plain": [
       "<Figure size 1440x720 with 1 Axes>"
      ]
     },
     "metadata": {
      "needs_background": "light"
     },
     "output_type": "display_data"
    }
   ],
   "source": [
    "plt.figure(figsize=(20,10))\n",
    "plt.title('Skipgram')\n",
    "plot(flat_skipgram_Dutch, color = 'blue')\n",
    "plot(flat_skipgram_German, color = 'red')\n",
    "plot(flat_skipgram_Italian, color = 'green')\n",
    "plot(flat_skipgram_English, color = 'yellow')\n",
    "plot(flat_skipgram_Spanish, color = 'black')\n",
    "plot(flat_skipgram_Finnish, color = 'purple')\n",
    "plt.legend(names)\n",
    "plt.show()"
   ]
  },
  {
   "cell_type": "code",
   "execution_count": 16,
   "metadata": {},
   "outputs": [],
   "source": [
    "from sklearn.metrics.pairwise import cosine_similarity\n",
    "for_sim = pd.DataFrame([flat_skipgram_Dutch, flat_skipgram_German, flat_skipgram_Italian, flat_skipgram_English, flat_skipgram_Spanish, flat_skipgram_Finnish][:100])\n",
    "for_sim.index = names\n",
    "for_sim.dropna(axis = 1,inplace=True)"
   ]
  },
  {
   "cell_type": "code",
   "execution_count": 17,
   "metadata": {},
   "outputs": [
    {
     "data": {
      "text/html": [
       "<div>\n",
       "<style scoped>\n",
       "    .dataframe tbody tr th:only-of-type {\n",
       "        vertical-align: middle;\n",
       "    }\n",
       "\n",
       "    .dataframe tbody tr th {\n",
       "        vertical-align: top;\n",
       "    }\n",
       "\n",
       "    .dataframe thead th {\n",
       "        text-align: right;\n",
       "    }\n",
       "</style>\n",
       "<table border=\"1\" class=\"dataframe\">\n",
       "  <thead>\n",
       "    <tr style=\"text-align: right;\">\n",
       "      <th></th>\n",
       "      <th>0</th>\n",
       "      <th>1</th>\n",
       "      <th>2</th>\n",
       "      <th>3</th>\n",
       "      <th>4</th>\n",
       "      <th>5</th>\n",
       "    </tr>\n",
       "  </thead>\n",
       "  <tbody>\n",
       "    <tr>\n",
       "      <th>0</th>\n",
       "      <td>1.000000</td>\n",
       "      <td>0.370795</td>\n",
       "      <td>0.305467</td>\n",
       "      <td>0.394334</td>\n",
       "      <td>0.389324</td>\n",
       "      <td>0.197273</td>\n",
       "    </tr>\n",
       "    <tr>\n",
       "      <th>1</th>\n",
       "      <td>0.370795</td>\n",
       "      <td>1.000001</td>\n",
       "      <td>0.464178</td>\n",
       "      <td>0.450441</td>\n",
       "      <td>0.392813</td>\n",
       "      <td>0.318510</td>\n",
       "    </tr>\n",
       "    <tr>\n",
       "      <th>2</th>\n",
       "      <td>0.305467</td>\n",
       "      <td>0.464178</td>\n",
       "      <td>1.000000</td>\n",
       "      <td>0.367684</td>\n",
       "      <td>0.377540</td>\n",
       "      <td>0.337804</td>\n",
       "    </tr>\n",
       "    <tr>\n",
       "      <th>3</th>\n",
       "      <td>0.394334</td>\n",
       "      <td>0.450441</td>\n",
       "      <td>0.367684</td>\n",
       "      <td>1.000000</td>\n",
       "      <td>0.377518</td>\n",
       "      <td>0.254855</td>\n",
       "    </tr>\n",
       "    <tr>\n",
       "      <th>4</th>\n",
       "      <td>0.389324</td>\n",
       "      <td>0.392813</td>\n",
       "      <td>0.377540</td>\n",
       "      <td>0.377518</td>\n",
       "      <td>1.000000</td>\n",
       "      <td>0.205792</td>\n",
       "    </tr>\n",
       "    <tr>\n",
       "      <th>5</th>\n",
       "      <td>0.197273</td>\n",
       "      <td>0.318510</td>\n",
       "      <td>0.337804</td>\n",
       "      <td>0.254855</td>\n",
       "      <td>0.205792</td>\n",
       "      <td>1.000001</td>\n",
       "    </tr>\n",
       "  </tbody>\n",
       "</table>\n",
       "</div>"
      ],
      "text/plain": [
       "          0         1         2         3         4         5\n",
       "0  1.000000  0.370795  0.305467  0.394334  0.389324  0.197273\n",
       "1  0.370795  1.000001  0.464178  0.450441  0.392813  0.318510\n",
       "2  0.305467  0.464178  1.000000  0.367684  0.377540  0.337804\n",
       "3  0.394334  0.450441  0.367684  1.000000  0.377518  0.254855\n",
       "4  0.389324  0.392813  0.377540  0.377518  1.000000  0.205792\n",
       "5  0.197273  0.318510  0.337804  0.254855  0.205792  1.000001"
      ]
     },
     "execution_count": 17,
     "metadata": {},
     "output_type": "execute_result"
    }
   ],
   "source": [
    "from sklearn.metrics.pairwise import cosine_similarity\n",
    "\n",
    "sim = cosine_similarity(for_sim)\n",
    "pd.DataFrame(sim)"
   ]
  },
  {
   "cell_type": "code",
   "execution_count": 18,
   "metadata": {},
   "outputs": [
    {
     "data": {
      "image/png": "[encoded data removed]",
      "text/plain": [
       "<Figure size 1152x648 with 1 Axes>"
      ]
     },
     "metadata": {
      "needs_background": "light"
     },
     "output_type": "display_data"
    }
   ],
   "source": [
    "from scipy.cluster.hierarchy import dendrogram, linkage\n",
    "Z = linkage(sim, 'ward')\n",
    "plt.figure(figsize=(16, 9))\n",
    "labels = for_sim.columns\n",
    "dendrogram(Z, leaf_rotation=90, leaf_font_size=7., labels = names)\n",
    "plt.title('Dendrogram')\n",
    "plt.ylabel('Distance')\n",
    "plt.xlabel('Language')\n",
    "plt.xticks(rotation = 45, fontsize = 10)\n",
    "\n",
    "plt.show()"
   ]
  },
  {
   "cell_type": "code",
   "execution_count": 19,
   "metadata": {},
   "outputs": [],
   "source": [
    "for_sim_cbow = pd.DataFrame([flat_cbow_Dutch, flat_cbow_German, flat_cbow_Italian, flat_cbow_English, flat_cbow_Spanish, flat_cbow_Finnish][:100])\n",
    "for_sim_cbow.index = names\n",
    "for_sim_cbow.dropna(axis = 1, inplace = True)\n"
   ]
  },
  {
   "cell_type": "code",
   "execution_count": 20,
   "metadata": {},
   "outputs": [
    {
     "data": {
      "text/html": [
       "<div>\n",
       "<style scoped>\n",
       "    .dataframe tbody tr th:only-of-type {\n",
       "        vertical-align: middle;\n",
       "    }\n",
       "\n",
       "    .dataframe tbody tr th {\n",
       "        vertical-align: top;\n",
       "    }\n",
       "\n",
       "    .dataframe thead th {\n",
       "        text-align: right;\n",
       "    }\n",
       "</style>\n",
       "<table border=\"1\" class=\"dataframe\">\n",
       "  <thead>\n",
       "    <tr style=\"text-align: right;\">\n",
       "      <th></th>\n",
       "      <th>0</th>\n",
       "      <th>1</th>\n",
       "      <th>2</th>\n",
       "      <th>3</th>\n",
       "      <th>4</th>\n",
       "      <th>5</th>\n",
       "    </tr>\n",
       "  </thead>\n",
       "  <tbody>\n",
       "    <tr>\n",
       "      <th>0</th>\n",
       "      <td>1.000000</td>\n",
       "      <td>0.313732</td>\n",
       "      <td>0.301867</td>\n",
       "      <td>0.184587</td>\n",
       "      <td>0.309053</td>\n",
       "      <td>0.118945</td>\n",
       "    </tr>\n",
       "    <tr>\n",
       "      <th>1</th>\n",
       "      <td>0.313732</td>\n",
       "      <td>1.000000</td>\n",
       "      <td>0.412474</td>\n",
       "      <td>0.274867</td>\n",
       "      <td>0.264044</td>\n",
       "      <td>0.034049</td>\n",
       "    </tr>\n",
       "    <tr>\n",
       "      <th>2</th>\n",
       "      <td>0.301867</td>\n",
       "      <td>0.412474</td>\n",
       "      <td>1.000001</td>\n",
       "      <td>0.293174</td>\n",
       "      <td>0.191278</td>\n",
       "      <td>0.046920</td>\n",
       "    </tr>\n",
       "    <tr>\n",
       "      <th>3</th>\n",
       "      <td>0.184587</td>\n",
       "      <td>0.274867</td>\n",
       "      <td>0.293174</td>\n",
       "      <td>0.999999</td>\n",
       "      <td>0.187709</td>\n",
       "      <td>0.038987</td>\n",
       "    </tr>\n",
       "    <tr>\n",
       "      <th>4</th>\n",
       "      <td>0.309053</td>\n",
       "      <td>0.264044</td>\n",
       "      <td>0.191278</td>\n",
       "      <td>0.187709</td>\n",
       "      <td>1.000000</td>\n",
       "      <td>0.128679</td>\n",
       "    </tr>\n",
       "    <tr>\n",
       "      <th>5</th>\n",
       "      <td>0.118945</td>\n",
       "      <td>0.034049</td>\n",
       "      <td>0.046920</td>\n",
       "      <td>0.038987</td>\n",
       "      <td>0.128679</td>\n",
       "      <td>0.999999</td>\n",
       "    </tr>\n",
       "  </tbody>\n",
       "</table>\n",
       "</div>"
      ],
      "text/plain": [
       "          0         1         2         3         4         5\n",
       "0  1.000000  0.313732  0.301867  0.184587  0.309053  0.118945\n",
       "1  0.313732  1.000000  0.412474  0.274867  0.264044  0.034049\n",
       "2  0.301867  0.412474  1.000001  0.293174  0.191278  0.046920\n",
       "3  0.184587  0.274867  0.293174  0.999999  0.187709  0.038987\n",
       "4  0.309053  0.264044  0.191278  0.187709  1.000000  0.128679\n",
       "5  0.118945  0.034049  0.046920  0.038987  0.128679  0.999999"
      ]
     },
     "execution_count": 20,
     "metadata": {},
     "output_type": "execute_result"
    }
   ],
   "source": [
    "sim_cbow = cosine_similarity(for_sim_cbow)\n",
    "pd.DataFrame(sim_cbow)\n"
   ]
  },
  {
   "cell_type": "code",
   "execution_count": 21,
   "metadata": {},
   "outputs": [
    {
     "data": {
      "text/plain": [
       "(array([ 5, 15, 25, 35, 45, 55]),\n",
       " [Text(5, 0, 'Finnish'),\n",
       "  Text(15, 0, 'Dutch'),\n",
       "  Text(25, 0, 'Spanish'),\n",
       "  Text(35, 0, 'English'),\n",
       "  Text(45, 0, 'German'),\n",
       "  Text(55, 0, 'Italian')])"
      ]
     },
     "execution_count": 21,
     "metadata": {},
     "output_type": "execute_result"
    },
    {
     "data": {
      "image/png": "[encoded data removed]",
      "text/plain": [
       "<Figure size 1152x648 with 1 Axes>"
      ]
     },
     "metadata": {
      "needs_background": "light"
     },
     "output_type": "display_data"
    }
   ],
   "source": [
    "Z_cbow = linkage(sim_cbow, 'ward')\n",
    "plt.figure(figsize=(16, 9))\n",
    "labels = for_sim_cbow.columns\n",
    "dendrogram(Z_cbow, leaf_rotation=90, leaf_font_size=7., labels = names)\n",
    "plt.title('Dendrogram')\n",
    "plt.ylabel('Distance')\n",
    "plt.xlabel('Language')\n",
    "plt.xticks(rotation = 45, fontsize = 10)\n"
   ]
  }
 ],
 "metadata": {
  "kernelspec": {
   "display_name": "base",
   "language": "python",
   "name": "python3"
  },
  "language_info": {
   "codemirror_mode": {
    "name": "ipython",
    "version": 3
   },
   "file_extension": ".py",
   "mimetype": "text/x-python",
   "name": "python",
   "nbconvert_exporter": "python",
   "pygments_lexer": "ipython3",
   "version": "3.9.12"
  },
  "orig_nbformat": 4
 },
 "nbformat": 4,
 "nbformat_minor": 2
}
