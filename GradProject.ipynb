{
 "cells": [
  {
   "cell_type": "code",
   "execution_count": 2,
   "metadata": {},
   "outputs": [],
   "source": [
    "Dutch = 'https://www.gutenberg.org/cache/epub/39181/pg39181-images.html'\n",
    "English = \"https://www.gutenberg.org/cache/epub/1004/pg1004-images.html\"\n",
    "Finnish = \"https://www.gutenberg.org/cache/epub/12546/pg12546.html\"\n",
    "German = \"https://www.gutenberg.org/cache/epub/8085/pg8085.html\"\n",
    "Italian = \"https://www.gutenberg.org/cache/epub/1000/pg1000-images.html\"\n",
    "Spanish = \"https://www.gutenberg.org/cache/epub/57303/pg57303-images.html\"\n",
    "\n",
    "languages = [Dutch, German, Italian, English, Spanish, Finnish]\n",
    "names = ['Dutch', 'German', 'Italian', 'English', 'Spanish', 'Finnish']"
   ]
  },
  {
   "cell_type": "code",
   "execution_count": 3,
   "metadata": {},
   "outputs": [],
   "source": [
    "import gensim\n",
    "from gensim.models import word2vec\n",
    "import nltk\n",
    "from nltk.tokenize import sent_tokenize, word_tokenize\n",
    "import gensim.downloader as api\n",
    "import numpy as np\n",
    "from urllib.request import urlopen\n",
    "import re\n",
    "from nltk.corpus import stopwords\n",
    "import pandas as pd\n",
    "from nameof import nameof"
   ]
  },
  {
   "cell_type": "code",
   "execution_count": 75,
   "metadata": {},
   "outputs": [],
   "source": [
    "def data_tokenizer(url, language, encoding = 'utf-8'):\n",
    "    with urlopen(url) as file:\n",
    "        divine_comedy = file.read().decode(encoding)\n",
    "\n",
    "    f = divine_comedy.replace(\"\\n\", \" \")    \n",
    "    f = re.sub(r'[^\\w\\s]', '', f)\n",
    "    data = []\n",
    "    for i in sent_tokenize(f):\n",
    "        temp = []\n",
    "     \n",
    "    # tokenize the sentence into words\n",
    "        for j in word_tokenize(i):\n",
    "            temp.append(j.lower())\n",
    " \n",
    "        data.append(temp)\n",
    "    return data"
   ]
  },
  {
   "cell_type": "code",
   "execution_count": 76,
   "metadata": {},
   "outputs": [],
   "source": [
    "var_holder = {}\n",
    "for i in languages:\n",
    "     langname = names[languages.index(i)]\n",
    "     var_holder['tokenized_' + langname]= data_tokenizer(i, langname)\n",
    "\n",
    "locals().update(var_holder)"
   ]
  },
  {
   "cell_type": "code",
   "execution_count": 77,
   "metadata": {},
   "outputs": [],
   "source": [
    "tokenized_names = 'tokenized_'+pd.Series(names)\n",
    "tokenized_languages = [tokenized_Dutch, tokenized_German, tokenized_Italian, tokenized_English, tokenized_Spanish, tokenized_Finnish]\n"
   ]
  },
  {
   "cell_type": "code",
   "execution_count": null,
   "metadata": {},
   "outputs": [],
   "source": [
    "def stopwords_remover(data, language):    \n",
    "    stop_words = set(stopwords.words(language))\n",
    "    stopped = [[i for i in j if i not in stop_words] for j in data]\n",
    "    return stopped"
   ]
  },
  {
   "cell_type": "code",
   "execution_count": 95,
   "metadata": {},
   "outputs": [],
   "source": [
    "def intro_remove()\n",
    "index_start = tokenized_Dutch[0].index('start')\n",
    "if tokenized_Dutch[0][index_start:index_start+6] == ['start', 'of', 'the', 'project', 'gutenberg', 'ebook']:\n",
    "    tokenized_Dutch = tokenized_Dutch[index_start+6:]"
   ]
  },
  {
   "cell_type": "code",
   "execution_count": 7,
   "metadata": {},
   "outputs": [
    {
     "name": "stdout",
     "output_type": "stream",
     "text": [
      "tokenized_Dutch :  ['reis', 'zeide', 'zoo', 'groot', 'tijdsverloop', 'ontnomenp', 'p', 'classp2a', 'classregel', 'idii_9494a']\n",
      "tokenized_German :  ['wer', 'meister', 'her', 'hinbr', 'sturmwind', 'treibt', 'ruhe', 'lechzenbr', 'ichund', 'zuges']\n",
      "tokenized_Italian :  ['dio', 'teme', 'p', 'p', 'caron', 'dimonio', 'occhi', 'bragiabr', 'accennando', 'tutte']\n",
      "tokenized_English :  ['p', 'p', 'classnoindent', 'entreaty', 'besought', 'luciabr', 'said', 'thy', 'faithful', 'one']\n",
      "tokenized_Spanish :  ['venga', 'lebrela', 'classfnanchor', 'pginternal', 'hreffootnote_1', 'idfnanchor_11a', 'haga', 'morir', 'dolores', 'alimentará']\n",
      "tokenized_Finnish :  ['metsää', 'tarkoitan', 'metsää', 'monen', 'vaisun', 'vainaanp', 'p', 'idid00180uneni', 'jälkeen', 'pitkä']\n"
     ]
    }
   ],
   "source": [
    "for tk in tokenized_languages:\n",
    "    print(tokenized_names[tokenized_languages.index(tk)],\": \", tk[0][3000:3010])"
   ]
  },
  {
   "cell_type": "code",
   "execution_count": 8,
   "metadata": {},
   "outputs": [
    {
     "name": "stdout",
     "output_type": "stream",
     "text": [
      "44471\n",
      "57427\n",
      "71994\n",
      "74499\n",
      "71623\n",
      "90944\n"
     ]
    }
   ],
   "source": [
    "for tk in tokenized_languages:\n",
    "    print(len(tk[0]))"
   ]
  },
  {
   "cell_type": "code",
   "execution_count": 9,
   "metadata": {},
   "outputs": [],
   "source": [
    "def skipgram(language):\n",
    "    return gensim.models.Word2Vec(language, min_count = 1,\n",
    "                              vector_size = 100,sg = 1).wv\n",
    "def cbow(language):\n",
    "    return gensim.models.Word2Vec(language, min_count = 1,\n",
    "                              vector_size = 100, sg = 0).wv"
   ]
  },
  {
   "cell_type": "code",
   "execution_count": 10,
   "metadata": {},
   "outputs": [],
   "source": [
    "skipgram_English = skipgram(tokenized_English)\n",
    "cbow_English = cbow(tokenized_English)\n",
    "skipgram_Dutch = skipgram(tokenized_Dutch)\n",
    "cbow_Dutch = cbow(tokenized_Dutch)\n",
    "skipgram_German = skipgram(tokenized_German)\n",
    "cbow_German = cbow(tokenized_German)\n",
    "skipgram_Italian = skipgram(tokenized_Italian)\n",
    "cbow_Italian = cbow(tokenized_Italian)\n",
    "skipgram_Spanish = skipgram(tokenized_Spanish)\n",
    "cbow_Spanish = cbow(tokenized_Spanish)\n",
    "skipgram_Finnish = skipgram(tokenized_Finnish)\n",
    "cbow_Finnish = cbow(tokenized_Finnish)\n",
    " "
   ]
  },
  {
   "cell_type": "code",
   "execution_count": 11,
   "metadata": {},
   "outputs": [],
   "source": [
    "cbow = [cbow_Dutch, cbow_German, cbow_Italian, cbow_English, cbow_Spanish, cbow_Finnish]\n",
    "cbow_names = 'cbow_'+pd.Series(names)\n",
    "skipgram = [skipgram_Dutch, skipgram_German, skipgram_Italian, skipgram_English, skipgram_Spanish, skipgram_Finnish]\n",
    "skipgram_names = 'skipgram_'+pd.Series(names)"
   ]
  },
  {
   "cell_type": "code",
   "execution_count": 12,
   "metadata": {},
   "outputs": [
    {
     "name": "stdout",
     "output_type": "stream",
     "text": [
      "['p', 'classnoindent', 'thou', 'one', 'unto', 'upon', 'thee', 'thy', 'said', 'us']\n",
      "['p', 'classnoindent', 'thou', 'one', 'unto', 'upon', 'thee', 'thy', 'said', 'us']\n"
     ]
    }
   ],
   "source": [
    "print(skipgram_English.index_to_key[:10])\n",
    "print(cbow_English.index_to_key[:10])"
   ]
  },
  {
   "cell_type": "code",
   "execution_count": 13,
   "metadata": {},
   "outputs": [
    {
     "name": "stdout",
     "output_type": "stream",
     "text": [
      "['p', 'classregel', 'classp2a', 'den', 'classp3a', 'a', 'pginternal', 'classnoot', 'gij', 'div']\n",
      "['p', 'classregel', 'classp2a', 'den', 'classp3a', 'a', 'pginternal', 'classnoot', 'gij', 'div']\n"
     ]
    }
   ],
   "source": [
    "print(skipgram_Dutch.index_to_key[:10])\n",
    "print(cbow_Dutch.index_to_key[:10])"
   ]
  },
  {
   "cell_type": "code",
   "execution_count": 14,
   "metadata": {},
   "outputs": [
    {
     "name": "stdout",
     "output_type": "stream",
     "text": [
      "['p', 'sprach', 'sah', 'drum', 'the', 'wohl', 'schon', 'mehr', 'gleich', 'wer']\n",
      "['p', 'sprach', 'sah', 'drum', 'the', 'wohl', 'schon', 'mehr', 'gleich', 'wer']\n"
     ]
    }
   ],
   "source": [
    "print(skipgram_German.index_to_key[:10])\n",
    "print(cbow_German.index_to_key[:10])"
   ]
  },
  {
   "cell_type": "code",
   "execution_count": 15,
   "metadata": {},
   "outputs": [
    {
     "name": "stdout",
     "output_type": "stream",
     "text": [
      "['p', 'sì', 'de', 'quel', 'me', 'così', 'poi', 'là', 'quando', 'già']\n",
      "['p', 'sì', 'de', 'quel', 'me', 'così', 'poi', 'là', 'quando', 'già']\n"
     ]
    }
   ],
   "source": [
    "print(skipgram_Italian.index_to_key[:10])\n",
    "print(cbow_Italian.index_to_key[:10])"
   ]
  },
  {
   "cell_type": "code",
   "execution_count": 16,
   "metadata": {},
   "outputs": [
    {
     "name": "stdout",
     "output_type": "stream",
     "text": [
      "['si', 'div', 'classpagenuma', 'tan', 'hacia', 'aquel', 'así', 'pues', 'pa', 'modo']\n",
      "['si', 'div', 'classpagenuma', 'tan', 'hacia', 'aquel', 'así', 'pues', 'pa', 'modo']\n"
     ]
    }
   ],
   "source": [
    "print(skipgram_Spanish.index_to_key[:10])\n",
    "print(cbow_Spanish.index_to_key[:10])"
   ]
  },
  {
   "cell_type": "code",
   "execution_count": 17,
   "metadata": {},
   "outputs": [
    {
     "name": "stdout",
     "output_type": "stream",
     "text": [
      "['p', 'mi', 'ma', 'näin', 'stylemargintop', 'sa', 'jo', 'mun', 'kaikki', 'mut']\n",
      "['p', 'mi', 'ma', 'näin', 'stylemargintop', 'sa', 'jo', 'mun', 'kaikki', 'mut']\n"
     ]
    }
   ],
   "source": [
    "print(skipgram_Finnish.index_to_key[:10])\n",
    "print(cbow_Finnish.index_to_key[:10])"
   ]
  },
  {
   "cell_type": "code",
   "execution_count": 18,
   "metadata": {},
   "outputs": [],
   "source": [
    "import matplotlib.pyplot as plt\n",
    "from sklearn.decomposition import PCA\n",
    "\n",
    "def flat(model):\n",
    "    vocab = list(model.index_to_key[:50])\n",
    "    vectors = model[vocab]\n",
    "    vectors_flatten = vectors.flatten()\n",
    "    return vectors_flatten"
   ]
  },
  {
   "cell_type": "code",
   "execution_count": 19,
   "metadata": {},
   "outputs": [],
   "source": [
    "for i in skipgram:\n",
    "    langname = names[skipgram.index(i)]\n",
    "    var_holder['flat_skipgram_' + langname]= flat(i)\n",
    "\n",
    "locals().update(var_holder)\n",
    "flat_skipgram_names = 'flat_skipgram_'+pd.Series(names)"
   ]
  },
  {
   "cell_type": "code",
   "execution_count": 20,
   "metadata": {},
   "outputs": [],
   "source": [
    "for i in cbow:\n",
    "    langname = names[cbow.index(i)]\n",
    "    var_holder['flat_cbow_' + langname]= flat(i)\n",
    "\n",
    "locals().update(var_holder)\n",
    "flat_cbow_names = 'flat_cbow_'+pd.Series(names)"
   ]
  },
  {
   "cell_type": "code",
   "execution_count": 27,
   "metadata": {},
   "outputs": [
    {
     "data": {
      "text/html": [
       "<div>\n",
       "<style scoped>\n",
       "    .dataframe tbody tr th:only-of-type {\n",
       "        vertical-align: middle;\n",
       "    }\n",
       "\n",
       "    .dataframe tbody tr th {\n",
       "        vertical-align: top;\n",
       "    }\n",
       "\n",
       "    .dataframe thead th {\n",
       "        text-align: right;\n",
       "    }\n",
       "</style>\n",
       "<table border=\"1\" class=\"dataframe\">\n",
       "  <thead>\n",
       "    <tr style=\"text-align: right;\">\n",
       "      <th></th>\n",
       "      <th>0</th>\n",
       "      <th>1</th>\n",
       "      <th>2</th>\n",
       "      <th>3</th>\n",
       "      <th>4</th>\n",
       "      <th>5</th>\n",
       "      <th>6</th>\n",
       "      <th>7</th>\n",
       "      <th>8</th>\n",
       "      <th>9</th>\n",
       "      <th>...</th>\n",
       "      <th>4990</th>\n",
       "      <th>4991</th>\n",
       "      <th>4992</th>\n",
       "      <th>4993</th>\n",
       "      <th>4994</th>\n",
       "      <th>4995</th>\n",
       "      <th>4996</th>\n",
       "      <th>4997</th>\n",
       "      <th>4998</th>\n",
       "      <th>4999</th>\n",
       "    </tr>\n",
       "  </thead>\n",
       "  <tbody>\n",
       "    <tr>\n",
       "      <th>Dutch</th>\n",
       "      <td>-0.115721</td>\n",
       "      <td>0.183961</td>\n",
       "      <td>0.071087</td>\n",
       "      <td>-0.019361</td>\n",
       "      <td>-0.089533</td>\n",
       "      <td>-0.211027</td>\n",
       "      <td>-0.104716</td>\n",
       "      <td>0.076583</td>\n",
       "      <td>-0.411030</td>\n",
       "      <td>-0.043107</td>\n",
       "      <td>...</td>\n",
       "      <td>0.080370</td>\n",
       "      <td>0.043422</td>\n",
       "      <td>-0.113038</td>\n",
       "      <td>0.000737</td>\n",
       "      <td>0.206523</td>\n",
       "      <td>0.092469</td>\n",
       "      <td>0.136495</td>\n",
       "      <td>0.031415</td>\n",
       "      <td>-0.025561</td>\n",
       "      <td>0.005516</td>\n",
       "    </tr>\n",
       "    <tr>\n",
       "      <th>German</th>\n",
       "      <td>-0.027764</td>\n",
       "      <td>0.000609</td>\n",
       "      <td>0.031411</td>\n",
       "      <td>0.025868</td>\n",
       "      <td>-0.044930</td>\n",
       "      <td>-0.033440</td>\n",
       "      <td>0.020220</td>\n",
       "      <td>0.052475</td>\n",
       "      <td>-0.017139</td>\n",
       "      <td>-0.023023</td>\n",
       "      <td>...</td>\n",
       "      <td>0.007679</td>\n",
       "      <td>-0.006076</td>\n",
       "      <td>-0.007716</td>\n",
       "      <td>-0.009176</td>\n",
       "      <td>0.005004</td>\n",
       "      <td>0.008380</td>\n",
       "      <td>-0.000469</td>\n",
       "      <td>-0.000139</td>\n",
       "      <td>-0.008427</td>\n",
       "      <td>-0.005198</td>\n",
       "    </tr>\n",
       "    <tr>\n",
       "      <th>Italian</th>\n",
       "      <td>0.135024</td>\n",
       "      <td>0.410883</td>\n",
       "      <td>0.069294</td>\n",
       "      <td>-0.216265</td>\n",
       "      <td>0.300503</td>\n",
       "      <td>-0.029620</td>\n",
       "      <td>0.377152</td>\n",
       "      <td>0.253885</td>\n",
       "      <td>-0.021151</td>\n",
       "      <td>-0.070641</td>\n",
       "      <td>...</td>\n",
       "      <td>0.366454</td>\n",
       "      <td>0.086855</td>\n",
       "      <td>0.100396</td>\n",
       "      <td>-0.087413</td>\n",
       "      <td>0.127161</td>\n",
       "      <td>0.230365</td>\n",
       "      <td>0.142696</td>\n",
       "      <td>-0.194344</td>\n",
       "      <td>0.183619</td>\n",
       "      <td>-0.350963</td>\n",
       "    </tr>\n",
       "    <tr>\n",
       "      <th>English</th>\n",
       "      <td>0.106514</td>\n",
       "      <td>-0.015139</td>\n",
       "      <td>-0.150218</td>\n",
       "      <td>-0.280268</td>\n",
       "      <td>0.177183</td>\n",
       "      <td>-0.116375</td>\n",
       "      <td>0.036573</td>\n",
       "      <td>0.223316</td>\n",
       "      <td>0.508301</td>\n",
       "      <td>-0.316959</td>\n",
       "      <td>...</td>\n",
       "      <td>0.374547</td>\n",
       "      <td>-0.017156</td>\n",
       "      <td>0.255880</td>\n",
       "      <td>0.193207</td>\n",
       "      <td>0.368484</td>\n",
       "      <td>-0.046317</td>\n",
       "      <td>0.088925</td>\n",
       "      <td>0.074605</td>\n",
       "      <td>-0.184282</td>\n",
       "      <td>0.409247</td>\n",
       "    </tr>\n",
       "    <tr>\n",
       "      <th>Spanish</th>\n",
       "      <td>-0.014064</td>\n",
       "      <td>0.011040</td>\n",
       "      <td>0.009490</td>\n",
       "      <td>0.005390</td>\n",
       "      <td>-0.013066</td>\n",
       "      <td>-0.010537</td>\n",
       "      <td>0.006104</td>\n",
       "      <td>0.023186</td>\n",
       "      <td>-0.005687</td>\n",
       "      <td>-0.017105</td>\n",
       "      <td>...</td>\n",
       "      <td>0.008275</td>\n",
       "      <td>-0.002922</td>\n",
       "      <td>-0.002250</td>\n",
       "      <td>-0.007710</td>\n",
       "      <td>0.016812</td>\n",
       "      <td>0.019921</td>\n",
       "      <td>-0.004977</td>\n",
       "      <td>-0.011994</td>\n",
       "      <td>-0.015130</td>\n",
       "      <td>-0.013141</td>\n",
       "    </tr>\n",
       "    <tr>\n",
       "      <th>Finnish</th>\n",
       "      <td>0.062740</td>\n",
       "      <td>0.077043</td>\n",
       "      <td>0.022371</td>\n",
       "      <td>0.044030</td>\n",
       "      <td>-0.068907</td>\n",
       "      <td>-0.103104</td>\n",
       "      <td>0.080136</td>\n",
       "      <td>0.126934</td>\n",
       "      <td>-0.050521</td>\n",
       "      <td>-0.033574</td>\n",
       "      <td>...</td>\n",
       "      <td>0.011936</td>\n",
       "      <td>-0.007297</td>\n",
       "      <td>-0.007308</td>\n",
       "      <td>-0.007303</td>\n",
       "      <td>0.008031</td>\n",
       "      <td>0.007230</td>\n",
       "      <td>-0.005493</td>\n",
       "      <td>-0.002835</td>\n",
       "      <td>-0.005454</td>\n",
       "      <td>-0.004389</td>\n",
       "    </tr>\n",
       "  </tbody>\n",
       "</table>\n",
       "<p>6 rows × 5000 columns</p>\n",
       "</div>"
      ],
      "text/plain": [
       "             0         1         2         3         4         5         6     \\\n",
       "Dutch   -0.115721  0.183961  0.071087 -0.019361 -0.089533 -0.211027 -0.104716   \n",
       "German  -0.027764  0.000609  0.031411  0.025868 -0.044930 -0.033440  0.020220   \n",
       "Italian  0.135024  0.410883  0.069294 -0.216265  0.300503 -0.029620  0.377152   \n",
       "English  0.106514 -0.015139 -0.150218 -0.280268  0.177183 -0.116375  0.036573   \n",
       "Spanish -0.014064  0.011040  0.009490  0.005390 -0.013066 -0.010537  0.006104   \n",
       "Finnish  0.062740  0.077043  0.022371  0.044030 -0.068907 -0.103104  0.080136   \n",
       "\n",
       "             7         8         9     ...      4990      4991      4992  \\\n",
       "Dutch    0.076583 -0.411030 -0.043107  ...  0.080370  0.043422 -0.113038   \n",
       "German   0.052475 -0.017139 -0.023023  ...  0.007679 -0.006076 -0.007716   \n",
       "Italian  0.253885 -0.021151 -0.070641  ...  0.366454  0.086855  0.100396   \n",
       "English  0.223316  0.508301 -0.316959  ...  0.374547 -0.017156  0.255880   \n",
       "Spanish  0.023186 -0.005687 -0.017105  ...  0.008275 -0.002922 -0.002250   \n",
       "Finnish  0.126934 -0.050521 -0.033574  ...  0.011936 -0.007297 -0.007308   \n",
       "\n",
       "             4993      4994      4995      4996      4997      4998      4999  \n",
       "Dutch    0.000737  0.206523  0.092469  0.136495  0.031415 -0.025561  0.005516  \n",
       "German  -0.009176  0.005004  0.008380 -0.000469 -0.000139 -0.008427 -0.005198  \n",
       "Italian -0.087413  0.127161  0.230365  0.142696 -0.194344  0.183619 -0.350963  \n",
       "English  0.193207  0.368484 -0.046317  0.088925  0.074605 -0.184282  0.409247  \n",
       "Spanish -0.007710  0.016812  0.019921 -0.004977 -0.011994 -0.015130 -0.013141  \n",
       "Finnish -0.007303  0.008031  0.007230 -0.005493 -0.002835 -0.005454 -0.004389  \n",
       "\n",
       "[6 rows x 5000 columns]"
      ]
     },
     "execution_count": 27,
     "metadata": {},
     "output_type": "execute_result"
    }
   ],
   "source": [
    "from sklearn.metrics.pairwise import cosine_similarity\n",
    "for_sim = pd.DataFrame([flat_skipgram_Dutch, flat_skipgram_German, flat_skipgram_Italian, flat_skipgram_English, flat_skipgram_Spanish, flat_skipgram_Finnish][:100])\n",
    "for_sim = for_sim\n",
    "for_sim.index = names\n",
    "for_sim"
   ]
  },
  {
   "cell_type": "code",
   "execution_count": 28,
   "metadata": {},
   "outputs": [
    {
     "data": {
      "text/html": [
       "<div>\n",
       "<style scoped>\n",
       "    .dataframe tbody tr th:only-of-type {\n",
       "        vertical-align: middle;\n",
       "    }\n",
       "\n",
       "    .dataframe tbody tr th {\n",
       "        vertical-align: top;\n",
       "    }\n",
       "\n",
       "    .dataframe thead th {\n",
       "        text-align: right;\n",
       "    }\n",
       "</style>\n",
       "<table border=\"1\" class=\"dataframe\">\n",
       "  <thead>\n",
       "    <tr style=\"text-align: right;\">\n",
       "      <th></th>\n",
       "      <th>0</th>\n",
       "      <th>1</th>\n",
       "      <th>2</th>\n",
       "      <th>3</th>\n",
       "      <th>4</th>\n",
       "      <th>5</th>\n",
       "    </tr>\n",
       "  </thead>\n",
       "  <tbody>\n",
       "    <tr>\n",
       "      <th>0</th>\n",
       "      <td>1.000000</td>\n",
       "      <td>0.266042</td>\n",
       "      <td>0.156846</td>\n",
       "      <td>0.028549</td>\n",
       "      <td>0.300559</td>\n",
       "      <td>0.214461</td>\n",
       "    </tr>\n",
       "    <tr>\n",
       "      <th>1</th>\n",
       "      <td>0.266042</td>\n",
       "      <td>0.999999</td>\n",
       "      <td>0.168757</td>\n",
       "      <td>0.136669</td>\n",
       "      <td>0.659825</td>\n",
       "      <td>0.629222</td>\n",
       "    </tr>\n",
       "    <tr>\n",
       "      <th>2</th>\n",
       "      <td>0.156846</td>\n",
       "      <td>0.168757</td>\n",
       "      <td>1.000000</td>\n",
       "      <td>0.017443</td>\n",
       "      <td>0.203959</td>\n",
       "      <td>0.187484</td>\n",
       "    </tr>\n",
       "    <tr>\n",
       "      <th>3</th>\n",
       "      <td>0.028549</td>\n",
       "      <td>0.136669</td>\n",
       "      <td>0.017443</td>\n",
       "      <td>1.000000</td>\n",
       "      <td>0.103695</td>\n",
       "      <td>0.118162</td>\n",
       "    </tr>\n",
       "    <tr>\n",
       "      <th>4</th>\n",
       "      <td>0.300559</td>\n",
       "      <td>0.659825</td>\n",
       "      <td>0.203959</td>\n",
       "      <td>0.103695</td>\n",
       "      <td>1.000001</td>\n",
       "      <td>0.569593</td>\n",
       "    </tr>\n",
       "  </tbody>\n",
       "</table>\n",
       "</div>"
      ],
      "text/plain": [
       "          0         1         2         3         4         5\n",
       "0  1.000000  0.266042  0.156846  0.028549  0.300559  0.214461\n",
       "1  0.266042  0.999999  0.168757  0.136669  0.659825  0.629222\n",
       "2  0.156846  0.168757  1.000000  0.017443  0.203959  0.187484\n",
       "3  0.028549  0.136669  0.017443  1.000000  0.103695  0.118162\n",
       "4  0.300559  0.659825  0.203959  0.103695  1.000001  0.569593"
      ]
     },
     "execution_count": 28,
     "metadata": {},
     "output_type": "execute_result"
    }
   ],
   "source": [
    "from sklearn.metrics.pairwise import cosine_similarity\n",
    "\n",
    "sim = cosine_similarity(for_sim)\n",
    "pd.DataFrame(sim).head()"
   ]
  },
  {
   "cell_type": "code",
   "execution_count": 29,
   "metadata": {},
   "outputs": [
    {
     "data": {
      "image/png": "[encoded data removed]",
      "text/plain": [
       "<Figure size 1152x648 with 1 Axes>"
      ]
     },
     "metadata": {
      "needs_background": "light"
     },
     "output_type": "display_data"
    }
   ],
   "source": [
    "from scipy.cluster.hierarchy import dendrogram, linkage\n",
    "Z = linkage(sim, 'ward')\n",
    "plt.figure(figsize=(16, 9))\n",
    "labels = for_sim.columns\n",
    "dendrogram(Z, leaf_rotation=90, leaf_font_size=7., labels = names)\n",
    "plt.title('Dendrogram')\n",
    "plt.ylabel('Distance')\n",
    "plt.xlabel('Language')\n",
    "plt.xticks(rotation = 45, fontsize = 10)\n",
    "\n",
    "plt.show()"
   ]
  },
  {
   "cell_type": "code",
   "execution_count": 30,
   "metadata": {},
   "outputs": [
    {
     "data": {
      "text/html": [
       "<div>\n",
       "<style scoped>\n",
       "    .dataframe tbody tr th:only-of-type {\n",
       "        vertical-align: middle;\n",
       "    }\n",
       "\n",
       "    .dataframe tbody tr th {\n",
       "        vertical-align: top;\n",
       "    }\n",
       "\n",
       "    .dataframe thead th {\n",
       "        text-align: right;\n",
       "    }\n",
       "</style>\n",
       "<table border=\"1\" class=\"dataframe\">\n",
       "  <thead>\n",
       "    <tr style=\"text-align: right;\">\n",
       "      <th></th>\n",
       "      <th>0</th>\n",
       "      <th>1</th>\n",
       "      <th>2</th>\n",
       "      <th>3</th>\n",
       "      <th>4</th>\n",
       "      <th>5</th>\n",
       "      <th>6</th>\n",
       "      <th>7</th>\n",
       "      <th>8</th>\n",
       "      <th>9</th>\n",
       "      <th>...</th>\n",
       "      <th>4990</th>\n",
       "      <th>4991</th>\n",
       "      <th>4992</th>\n",
       "      <th>4993</th>\n",
       "      <th>4994</th>\n",
       "      <th>4995</th>\n",
       "      <th>4996</th>\n",
       "      <th>4997</th>\n",
       "      <th>4998</th>\n",
       "      <th>4999</th>\n",
       "    </tr>\n",
       "  </thead>\n",
       "  <tbody>\n",
       "    <tr>\n",
       "      <th>Dutch</th>\n",
       "      <td>-0.016626</td>\n",
       "      <td>0.021122</td>\n",
       "      <td>0.002481</td>\n",
       "      <td>0.004788</td>\n",
       "      <td>-0.010994</td>\n",
       "      <td>-0.035885</td>\n",
       "      <td>0.006758</td>\n",
       "      <td>0.032249</td>\n",
       "      <td>-0.041434</td>\n",
       "      <td>-0.014864</td>\n",
       "      <td>...</td>\n",
       "      <td>0.010316</td>\n",
       "      <td>-0.002803</td>\n",
       "      <td>-0.008057</td>\n",
       "      <td>-0.008943</td>\n",
       "      <td>0.012370</td>\n",
       "      <td>0.010872</td>\n",
       "      <td>0.001511</td>\n",
       "      <td>-0.000109</td>\n",
       "      <td>-0.006594</td>\n",
       "      <td>-0.004117</td>\n",
       "    </tr>\n",
       "    <tr>\n",
       "      <th>German</th>\n",
       "      <td>-0.003194</td>\n",
       "      <td>0.000381</td>\n",
       "      <td>0.007629</td>\n",
       "      <td>0.009458</td>\n",
       "      <td>-0.012766</td>\n",
       "      <td>-0.009500</td>\n",
       "      <td>0.008167</td>\n",
       "      <td>0.012772</td>\n",
       "      <td>-0.006366</td>\n",
       "      <td>-0.006356</td>\n",
       "      <td>...</td>\n",
       "      <td>0.006468</td>\n",
       "      <td>-0.006619</td>\n",
       "      <td>-0.008377</td>\n",
       "      <td>-0.008963</td>\n",
       "      <td>0.003852</td>\n",
       "      <td>0.006488</td>\n",
       "      <td>-0.002025</td>\n",
       "      <td>0.001181</td>\n",
       "      <td>-0.008382</td>\n",
       "      <td>-0.005105</td>\n",
       "    </tr>\n",
       "    <tr>\n",
       "      <th>Italian</th>\n",
       "      <td>0.122517</td>\n",
       "      <td>0.466302</td>\n",
       "      <td>0.060224</td>\n",
       "      <td>-0.237329</td>\n",
       "      <td>0.271068</td>\n",
       "      <td>-0.053037</td>\n",
       "      <td>0.471703</td>\n",
       "      <td>0.258174</td>\n",
       "      <td>-0.073598</td>\n",
       "      <td>-0.128515</td>\n",
       "      <td>...</td>\n",
       "      <td>0.153742</td>\n",
       "      <td>0.040004</td>\n",
       "      <td>0.037679</td>\n",
       "      <td>-0.042043</td>\n",
       "      <td>0.069735</td>\n",
       "      <td>0.102705</td>\n",
       "      <td>0.034608</td>\n",
       "      <td>-0.063067</td>\n",
       "      <td>0.074820</td>\n",
       "      <td>-0.139500</td>\n",
       "    </tr>\n",
       "    <tr>\n",
       "      <th>English</th>\n",
       "      <td>0.044364</td>\n",
       "      <td>0.206458</td>\n",
       "      <td>-0.048066</td>\n",
       "      <td>-0.305315</td>\n",
       "      <td>0.238972</td>\n",
       "      <td>-0.235456</td>\n",
       "      <td>0.194075</td>\n",
       "      <td>0.482631</td>\n",
       "      <td>0.454968</td>\n",
       "      <td>-0.496094</td>\n",
       "      <td>...</td>\n",
       "      <td>0.196934</td>\n",
       "      <td>0.017900</td>\n",
       "      <td>0.147042</td>\n",
       "      <td>0.104976</td>\n",
       "      <td>0.184429</td>\n",
       "      <td>-0.033191</td>\n",
       "      <td>0.044486</td>\n",
       "      <td>0.063271</td>\n",
       "      <td>-0.135437</td>\n",
       "      <td>0.206780</td>\n",
       "    </tr>\n",
       "    <tr>\n",
       "      <th>Spanish</th>\n",
       "      <td>-0.001263</td>\n",
       "      <td>0.000892</td>\n",
       "      <td>0.005405</td>\n",
       "      <td>0.009017</td>\n",
       "      <td>-0.009939</td>\n",
       "      <td>-0.007593</td>\n",
       "      <td>0.006653</td>\n",
       "      <td>0.010401</td>\n",
       "      <td>-0.005275</td>\n",
       "      <td>-0.005017</td>\n",
       "      <td>...</td>\n",
       "      <td>0.006815</td>\n",
       "      <td>-0.006394</td>\n",
       "      <td>-0.008262</td>\n",
       "      <td>-0.008816</td>\n",
       "      <td>0.004940</td>\n",
       "      <td>0.007531</td>\n",
       "      <td>-0.002340</td>\n",
       "      <td>0.000205</td>\n",
       "      <td>-0.008587</td>\n",
       "      <td>-0.005560</td>\n",
       "    </tr>\n",
       "    <tr>\n",
       "      <th>Finnish</th>\n",
       "      <td>0.001114</td>\n",
       "      <td>0.007693</td>\n",
       "      <td>0.004881</td>\n",
       "      <td>0.011208</td>\n",
       "      <td>-0.013231</td>\n",
       "      <td>-0.012826</td>\n",
       "      <td>0.012568</td>\n",
       "      <td>0.021033</td>\n",
       "      <td>-0.009156</td>\n",
       "      <td>-0.009697</td>\n",
       "      <td>...</td>\n",
       "      <td>0.007142</td>\n",
       "      <td>-0.006763</td>\n",
       "      <td>-0.008465</td>\n",
       "      <td>-0.008237</td>\n",
       "      <td>0.004409</td>\n",
       "      <td>0.006432</td>\n",
       "      <td>-0.002292</td>\n",
       "      <td>0.000854</td>\n",
       "      <td>-0.007881</td>\n",
       "      <td>-0.005001</td>\n",
       "    </tr>\n",
       "  </tbody>\n",
       "</table>\n",
       "<p>6 rows × 5000 columns</p>\n",
       "</div>"
      ],
      "text/plain": [
       "             0         1         2         3         4         5         6     \\\n",
       "Dutch   -0.016626  0.021122  0.002481  0.004788 -0.010994 -0.035885  0.006758   \n",
       "German  -0.003194  0.000381  0.007629  0.009458 -0.012766 -0.009500  0.008167   \n",
       "Italian  0.122517  0.466302  0.060224 -0.237329  0.271068 -0.053037  0.471703   \n",
       "English  0.044364  0.206458 -0.048066 -0.305315  0.238972 -0.235456  0.194075   \n",
       "Spanish -0.001263  0.000892  0.005405  0.009017 -0.009939 -0.007593  0.006653   \n",
       "Finnish  0.001114  0.007693  0.004881  0.011208 -0.013231 -0.012826  0.012568   \n",
       "\n",
       "             7         8         9     ...      4990      4991      4992  \\\n",
       "Dutch    0.032249 -0.041434 -0.014864  ...  0.010316 -0.002803 -0.008057   \n",
       "German   0.012772 -0.006366 -0.006356  ...  0.006468 -0.006619 -0.008377   \n",
       "Italian  0.258174 -0.073598 -0.128515  ...  0.153742  0.040004  0.037679   \n",
       "English  0.482631  0.454968 -0.496094  ...  0.196934  0.017900  0.147042   \n",
       "Spanish  0.010401 -0.005275 -0.005017  ...  0.006815 -0.006394 -0.008262   \n",
       "Finnish  0.021033 -0.009156 -0.009697  ...  0.007142 -0.006763 -0.008465   \n",
       "\n",
       "             4993      4994      4995      4996      4997      4998      4999  \n",
       "Dutch   -0.008943  0.012370  0.010872  0.001511 -0.000109 -0.006594 -0.004117  \n",
       "German  -0.008963  0.003852  0.006488 -0.002025  0.001181 -0.008382 -0.005105  \n",
       "Italian -0.042043  0.069735  0.102705  0.034608 -0.063067  0.074820 -0.139500  \n",
       "English  0.104976  0.184429 -0.033191  0.044486  0.063271 -0.135437  0.206780  \n",
       "Spanish -0.008816  0.004940  0.007531 -0.002340  0.000205 -0.008587 -0.005560  \n",
       "Finnish -0.008237  0.004409  0.006432 -0.002292  0.000854 -0.007881 -0.005001  \n",
       "\n",
       "[6 rows x 5000 columns]"
      ]
     },
     "execution_count": 30,
     "metadata": {},
     "output_type": "execute_result"
    }
   ],
   "source": [
    "for_sim_cbow = pd.DataFrame([flat_cbow_Dutch, flat_cbow_German, flat_cbow_Italian, flat_cbow_English, flat_cbow_Spanish, flat_cbow_Finnish][:100])\n",
    "for_sim_cbow = for_sim_cbow\n",
    "for_sim_cbow.index = names\n",
    "for_sim_cbow\n"
   ]
  },
  {
   "cell_type": "code",
   "execution_count": 31,
   "metadata": {},
   "outputs": [
    {
     "data": {
      "text/html": [
       "<div>\n",
       "<style scoped>\n",
       "    .dataframe tbody tr th:only-of-type {\n",
       "        vertical-align: middle;\n",
       "    }\n",
       "\n",
       "    .dataframe tbody tr th {\n",
       "        vertical-align: top;\n",
       "    }\n",
       "\n",
       "    .dataframe thead th {\n",
       "        text-align: right;\n",
       "    }\n",
       "</style>\n",
       "<table border=\"1\" class=\"dataframe\">\n",
       "  <thead>\n",
       "    <tr style=\"text-align: right;\">\n",
       "      <th></th>\n",
       "      <th>0</th>\n",
       "      <th>1</th>\n",
       "      <th>2</th>\n",
       "      <th>3</th>\n",
       "      <th>4</th>\n",
       "      <th>5</th>\n",
       "    </tr>\n",
       "  </thead>\n",
       "  <tbody>\n",
       "    <tr>\n",
       "      <th>0</th>\n",
       "      <td>1.000002</td>\n",
       "      <td>0.768817</td>\n",
       "      <td>0.238509</td>\n",
       "      <td>0.189627</td>\n",
       "      <td>0.774544</td>\n",
       "      <td>0.784986</td>\n",
       "    </tr>\n",
       "    <tr>\n",
       "      <th>1</th>\n",
       "      <td>0.768817</td>\n",
       "      <td>0.999998</td>\n",
       "      <td>0.158409</td>\n",
       "      <td>0.161962</td>\n",
       "      <td>0.992696</td>\n",
       "      <td>0.988644</td>\n",
       "    </tr>\n",
       "    <tr>\n",
       "      <th>2</th>\n",
       "      <td>0.238509</td>\n",
       "      <td>0.158409</td>\n",
       "      <td>1.000002</td>\n",
       "      <td>0.104144</td>\n",
       "      <td>0.166504</td>\n",
       "      <td>0.180107</td>\n",
       "    </tr>\n",
       "    <tr>\n",
       "      <th>3</th>\n",
       "      <td>0.189627</td>\n",
       "      <td>0.161962</td>\n",
       "      <td>0.104144</td>\n",
       "      <td>1.000000</td>\n",
       "      <td>0.161916</td>\n",
       "      <td>0.182724</td>\n",
       "    </tr>\n",
       "    <tr>\n",
       "      <th>4</th>\n",
       "      <td>0.774544</td>\n",
       "      <td>0.992696</td>\n",
       "      <td>0.166504</td>\n",
       "      <td>0.161916</td>\n",
       "      <td>0.999999</td>\n",
       "      <td>0.987666</td>\n",
       "    </tr>\n",
       "  </tbody>\n",
       "</table>\n",
       "</div>"
      ],
      "text/plain": [
       "          0         1         2         3         4         5\n",
       "0  1.000002  0.768817  0.238509  0.189627  0.774544  0.784986\n",
       "1  0.768817  0.999998  0.158409  0.161962  0.992696  0.988644\n",
       "2  0.238509  0.158409  1.000002  0.104144  0.166504  0.180107\n",
       "3  0.189627  0.161962  0.104144  1.000000  0.161916  0.182724\n",
       "4  0.774544  0.992696  0.166504  0.161916  0.999999  0.987666"
      ]
     },
     "execution_count": 31,
     "metadata": {},
     "output_type": "execute_result"
    }
   ],
   "source": [
    "sim_cbow = cosine_similarity(for_sim_cbow)\n",
    "pd.DataFrame(sim_cbow).head()\n"
   ]
  },
  {
   "cell_type": "code",
   "execution_count": 32,
   "metadata": {},
   "outputs": [
    {
     "data": {
      "text/plain": [
       "Text(0, 0.5, 'Distance')"
      ]
     },
     "execution_count": 32,
     "metadata": {},
     "output_type": "execute_result"
    },
    {
     "data": {
      "image/png": "[encoded data removed]",
      "text/plain": [
       "<Figure size 1152x648 with 1 Axes>"
      ]
     },
     "metadata": {
      "needs_background": "light"
     },
     "output_type": "display_data"
    }
   ],
   "source": [
    "Z_cbow = linkage(sim_cbow, 'ward')\n",
    "plt.figure(figsize=(16, 9))\n",
    "labels = for_sim_cbow.columns\n",
    "dendrogram(Z_cbow, leaf_rotation=90, leaf_font_size=7., labels = names)\n",
    "plt.title('Dendrogram')\n",
    "plt.ylabel('Distance')\n"
   ]
  }
 ],
 "metadata": {
  "kernelspec": {
   "display_name": "base",
   "language": "python",
   "name": "python3"
  },
  "language_info": {
   "codemirror_mode": {
    "name": "ipython",
    "version": 3
   },
   "file_extension": ".py",
   "mimetype": "text/x-python",
   "name": "python",
   "nbconvert_exporter": "python",
   "pygments_lexer": "ipython3",
   "version": "3.9.12"
  },
  "orig_nbformat": 4
 },
 "nbformat": 4,
 "nbformat_minor": 2
}
