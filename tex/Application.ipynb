{
 "cells": [
  {
   "cell_type": "code",
   "execution_count": 179,
   "metadata": {},
   "outputs": [],
   "source": [
    "Dutch = 'https://www.gutenberg.org/cache/epub/39181/pg39181-images.html'\n",
    "English = \"https://www.gutenberg.org/cache/epub/1004/pg1004-images.html\"\n",
    "Finnish = \"https://www.gutenberg.org/cache/epub/12546/pg12546.html\"\n",
    "German = \"https://www.gutenberg.org/cache/epub/8085/pg8085.html\"\n",
    "Italian = \"https://www.gutenberg.org/cache/epub/1000/pg1000-images.html\"\n",
    "Spanish = \"https://www.gutenberg.org/cache/epub/57303/pg57303-images.html\"\n",
    "\n",
    "languages = [Dutch, German, Italian, English, Spanish, Finnish]\n",
    "names = ['Dutch', 'German', 'Italian', 'English', 'Spanish', 'Finnish']"
   ]
  },
  {
   "cell_type": "code",
   "execution_count": 180,
   "metadata": {},
   "outputs": [],
   "source": [
    "import gensim\n",
    "from gensim.models import word2vec\n",
    "import nltk\n",
    "from nltk.tokenize import sent_tokenize, word_tokenize\n",
    "import gensim.downloader as api\n",
    "import numpy as np\n",
    "from urllib.request import urlopen\n",
    "import re\n",
    "from nltk.corpus import stopwords\n",
    "import pandas as pd\n",
    "import html2text\n"
   ]
  },
  {
   "cell_type": "code",
   "execution_count": 181,
   "metadata": {},
   "outputs": [],
   "source": [
    "def data_tokenizer(url, language, encoding = 'utf-8'):\n",
    "    with urlopen(url) as file:\n",
    "        divine_comedy = file.read().decode(encoding)\n",
    "        divine_comedy = html2text.html2text(divine_comedy)\n",
    "        divine_comedy = divine_comedy.replace(\"\\n\", \" \")\n",
    "    f = divine_comedy.replace(\"\\n\", \" \")    \n",
    "    f = re.sub(r'[^\\w\\s]', '', f)\n",
    "    data = []\n",
    "    for i in sent_tokenize(f):\n",
    "        temp = []\n",
    "     \n",
    "    # tokenize the sentence into words\n",
    "        for j in word_tokenize(i):\n",
    "            temp.append(j.lower())\n",
    " \n",
    "        data.append(temp)\n",
    "\n",
    "    stop_words = set(nltk.corpus.stopwords.words('english')) | set(nltk.corpus.stopwords.words(language))\n",
    "    [stopped] = [[i for i in j if i not in stop_words] for j in data]\n",
    "    \n",
    "    return stopped"
   ]
  },
  {
   "cell_type": "code",
   "execution_count": 182,
   "metadata": {},
   "outputs": [],
   "source": [
    "tokenized_English = data_tokenizer(English,'English')\n",
    "tokenized_German = data_tokenizer(German,'German')\n",
    "tokenized_Italian = data_tokenizer(Italian,'Italian')\n",
    "tokenized_Dutch = data_tokenizer(Dutch,'Dutch')\n",
    "tokenized_Spanish = data_tokenizer(Spanish,'Spanish')\n",
    "tokenized_Finnish = data_tokenizer(Finnish,'Finnish')\n",
    "tokenized_names = 'tokenized_'+pd.Series(names)\n",
    "tokenized_languages = [tokenized_Dutch, tokenized_German, tokenized_Italian, tokenized_English, tokenized_Spanish, tokenized_Finnish]"
   ]
  },
  {
   "cell_type": "code",
   "execution_count": 183,
   "metadata": {},
   "outputs": [],
   "source": [
    "df_eng = pd.DataFrame(tokenized_English, columns = ['English'])"
   ]
  },
  {
   "cell_type": "code",
   "execution_count": 184,
   "metadata": {},
   "outputs": [],
   "source": [
    "def most_common_words(lang):\n",
    "    df = pd.DataFrame(lang, columns = ['Language'])\n",
    "    df_sorted = df.groupby(['Language'])['Language'].count().reset_index(\n",
    "                        name='Count').sort_values(['Count'], ascending=False)\n",
    "    return df_sorted.Language[:150].reset_index(drop=True)\n"
   ]
  },
  {
   "cell_type": "code",
   "execution_count": 185,
   "metadata": {},
   "outputs": [
    {
     "data": {
      "text/html": [
       "<div>\n",
       "<style scoped>\n",
       "    .dataframe tbody tr th:only-of-type {\n",
       "        vertical-align: middle;\n",
       "    }\n",
       "\n",
       "    .dataframe tbody tr th {\n",
       "        vertical-align: top;\n",
       "    }\n",
       "\n",
       "    .dataframe thead th {\n",
       "        text-align: right;\n",
       "    }\n",
       "</style>\n",
       "<table border=\"1\" class=\"dataframe\">\n",
       "  <thead>\n",
       "    <tr style=\"text-align: right;\">\n",
       "      <th></th>\n",
       "      <th>Dutch</th>\n",
       "      <th>German</th>\n",
       "      <th>Italian</th>\n",
       "      <th>English</th>\n",
       "      <th>Spanish</th>\n",
       "      <th>Finnish</th>\n",
       "    </tr>\n",
       "  </thead>\n",
       "  <tbody>\n",
       "    <tr>\n",
       "      <th>0</th>\n",
       "      <td>thou</td>\n",
       "      <td>sprach</td>\n",
       "      <td>sì</td>\n",
       "      <td>den</td>\n",
       "      <td>si</td>\n",
       "      <td>mi</td>\n",
       "    </tr>\n",
       "    <tr>\n",
       "      <th>1</th>\n",
       "      <td>one</td>\n",
       "      <td>sah</td>\n",
       "      <td>de</td>\n",
       "      <td>gij</td>\n",
       "      <td>tan</td>\n",
       "      <td>mut</td>\n",
       "    </tr>\n",
       "    <tr>\n",
       "      <th>2</th>\n",
       "      <td>thee</td>\n",
       "      <td>drum</td>\n",
       "      <td>quel</td>\n",
       "      <td>zoo</td>\n",
       "      <td>así</td>\n",
       "      <td>näin</td>\n",
       "    </tr>\n",
       "    <tr>\n",
       "      <th>3</th>\n",
       "      <td>unto</td>\n",
       "      <td>schon</td>\n",
       "      <td>poi</td>\n",
       "      <td>zóó</td>\n",
       "      <td>hacia</td>\n",
       "      <td>sa</td>\n",
       "    </tr>\n",
       "    <tr>\n",
       "      <th>4</th>\n",
       "      <td>upon</td>\n",
       "      <td>mehr</td>\n",
       "      <td>così</td>\n",
       "      <td>wanneer</td>\n",
       "      <td>aquel</td>\n",
       "      <td>mun</td>\n",
       "    </tr>\n",
       "    <tr>\n",
       "      <th>...</th>\n",
       "      <td>...</td>\n",
       "      <td>...</td>\n",
       "      <td>...</td>\n",
       "      <td>...</td>\n",
       "      <td>...</td>\n",
       "      <td>...</td>\n",
       "    </tr>\n",
       "    <tr>\n",
       "      <th>145</th>\n",
       "      <td>ere</td>\n",
       "      <td>fand</td>\n",
       "      <td>diss</td>\n",
       "      <td>zeg</td>\n",
       "      <td>sombras</td>\n",
       "      <td>tietä</td>\n",
       "    </tr>\n",
       "    <tr>\n",
       "      <th>146</th>\n",
       "      <td>turn</td>\n",
       "      <td>berg</td>\n",
       "      <td>verso</td>\n",
       "      <td>allen</td>\n",
       "      <td>dama</td>\n",
       "      <td>mitään</td>\n",
       "    </tr>\n",
       "    <tr>\n",
       "      <th>147</th>\n",
       "      <td>give</td>\n",
       "      <td>zeigen</td>\n",
       "      <td>ove</td>\n",
       "      <td>136</td>\n",
       "      <td>pie</td>\n",
       "      <td>aikaa</td>\n",
       "    </tr>\n",
       "    <tr>\n",
       "      <th>148</th>\n",
       "      <td>part</td>\n",
       "      <td>wesen</td>\n",
       "      <td>quindi</td>\n",
       "      <td>antwoordde</td>\n",
       "      <td>delante</td>\n",
       "      <td>päivä</td>\n",
       "    </tr>\n",
       "    <tr>\n",
       "      <th>149</th>\n",
       "      <td>father</td>\n",
       "      <td>schein</td>\n",
       "      <td>forte</td>\n",
       "      <td>minder</td>\n",
       "      <td>paso</td>\n",
       "      <td>virka</td>\n",
       "    </tr>\n",
       "  </tbody>\n",
       "</table>\n",
       "<p>150 rows × 6 columns</p>\n",
       "</div>"
      ],
      "text/plain": [
       "      Dutch  German Italian     English  Spanish Finnish\n",
       "0      thou  sprach      sì         den       si      mi\n",
       "1       one     sah      de         gij      tan     mut\n",
       "2      thee    drum    quel         zoo      así    näin\n",
       "3      unto   schon     poi         zóó    hacia      sa\n",
       "4      upon    mehr    così     wanneer    aquel     mun\n",
       "..      ...     ...     ...         ...      ...     ...\n",
       "145     ere    fand    diss         zeg  sombras   tietä\n",
       "146    turn    berg   verso       allen     dama  mitään\n",
       "147    give  zeigen     ove         136      pie   aikaa\n",
       "148    part   wesen  quindi  antwoordde  delante   päivä\n",
       "149  father  schein   forte      minder     paso   virka\n",
       "\n",
       "[150 rows x 6 columns]"
      ]
     },
     "execution_count": 185,
     "metadata": {},
     "output_type": "execute_result"
    }
   ],
   "source": [
    "eng150 = most_common_words(tokenized_English)\n",
    "ger150 = most_common_words(tokenized_German)\n",
    "ita150 = most_common_words(tokenized_Italian)\n",
    "dut150 = most_common_words(tokenized_Dutch)\n",
    "spa150 = most_common_words(tokenized_Spanish)\n",
    "fin150 = most_common_words(tokenized_Finnish)\n",
    "\n",
    "token_df = pd.DataFrame([eng150, ger150, ita150, dut150, spa150, fin150], index = names).T\n",
    "\n",
    "token_df"
   ]
  },
  {
   "cell_type": "code",
   "execution_count": 186,
   "metadata": {},
   "outputs": [
    {
     "name": "stderr",
     "output_type": "stream",
     "text": [
      "Some weights of the model checkpoint at bert-base-multilingual-cased were not used when initializing BertModel: ['cls.predictions.transform.dense.bias', 'cls.predictions.bias', 'cls.predictions.transform.LayerNorm.weight', 'cls.predictions.transform.dense.weight', 'cls.predictions.transform.LayerNorm.bias', 'cls.predictions.decoder.weight', 'cls.seq_relationship.weight', 'cls.seq_relationship.bias']\n",
      "- This IS expected if you are initializing BertModel from the checkpoint of a model trained on another task or with another architecture (e.g. initializing a BertForSequenceClassification model from a BertForPreTraining model).\n",
      "- This IS NOT expected if you are initializing BertModel from the checkpoint of a model that you expect to be exactly identical (initializing a BertForSequenceClassification model from a BertForSequenceClassification model).\n",
      "2023-06-01 16:07:21,235 - simalign.simalign - INFO - Initialized the EmbeddingLoader with model: bert-base-multilingual-cased\n"
     ]
    }
   ],
   "source": [
    "from simalign import SentenceAligner\n",
    "myaligner = SentenceAligner(model=\"bert\", token_type=\"bpe\", matching_methods=\"mai\")\n",
    "\n"
   ]
  },
  {
   "cell_type": "code",
   "execution_count": 187,
   "metadata": {},
   "outputs": [],
   "source": [
    "def alingment(lang150):\n",
    "    aligned = myaligner.get_word_aligns(eng150.to_list(), lang150.to_list())\n",
    "    mwmf = pd.DataFrame(aligned['mwmf'])\n",
    "    return lang150.reindex(mwmf[1])"
   ]
  },
  {
   "cell_type": "code",
   "execution_count": 188,
   "metadata": {},
   "outputs": [],
   "source": [
    "ger_aligned = alingment(ger150)\n",
    "ita_aligned = alingment(ita150)\n",
    "dut_aligned = alingment(dut150)\n",
    "spa_aligned = alingment(spa150)\n",
    "fin_aligned = alingment(fin150)\n"
   ]
  },
  {
   "cell_type": "code",
   "execution_count": 213,
   "metadata": {},
   "outputs": [],
   "source": [
    "aligned_df = pd.DataFrame([eng150, ger_aligned.reset_index(drop =True), ita_aligned.reset_index(drop =True), \n",
    "                           dut_aligned.reset_index(drop =True), spa_aligned.reset_index(drop =True), fin_aligned.reset_index(drop =True)], index = names).T"
   ]
  },
  {
   "cell_type": "code",
   "execution_count": 214,
   "metadata": {},
   "outputs": [
    {
     "data": {
      "text/html": [
       "<div>\n",
       "<style scoped>\n",
       "    .dataframe tbody tr th:only-of-type {\n",
       "        vertical-align: middle;\n",
       "    }\n",
       "\n",
       "    .dataframe tbody tr th {\n",
       "        vertical-align: top;\n",
       "    }\n",
       "\n",
       "    .dataframe thead th {\n",
       "        text-align: right;\n",
       "    }\n",
       "</style>\n",
       "<table border=\"1\" class=\"dataframe\">\n",
       "  <thead>\n",
       "    <tr style=\"text-align: right;\">\n",
       "      <th></th>\n",
       "      <th>Dutch</th>\n",
       "      <th>German</th>\n",
       "      <th>Italian</th>\n",
       "      <th>English</th>\n",
       "      <th>Spanish</th>\n",
       "      <th>Finnish</th>\n",
       "    </tr>\n",
       "  </thead>\n",
       "  <tbody>\n",
       "    <tr>\n",
       "      <th>0</th>\n",
       "      <td>thou</td>\n",
       "      <td>wort</td>\n",
       "      <td>sì</td>\n",
       "      <td>den</td>\n",
       "      <td>si</td>\n",
       "      <td>mi</td>\n",
       "    </tr>\n",
       "    <tr>\n",
       "      <th>1</th>\n",
       "      <td>one</td>\n",
       "      <td>ewgen</td>\n",
       "      <td>laltro</td>\n",
       "      <td>gij</td>\n",
       "      <td>allí</td>\n",
       "      <td>mut</td>\n",
       "    </tr>\n",
       "    <tr>\n",
       "      <th>2</th>\n",
       "      <td>thee</td>\n",
       "      <td>wort</td>\n",
       "      <td>de</td>\n",
       "      <td>zoo</td>\n",
       "      <td>así</td>\n",
       "      <td>näin</td>\n",
       "    </tr>\n",
       "    <tr>\n",
       "      <th>3</th>\n",
       "      <td>unto</td>\n",
       "      <td>sieh</td>\n",
       "      <td>ché</td>\n",
       "      <td>eene</td>\n",
       "      <td>después</td>\n",
       "      <td>mulle</td>\n",
       "    </tr>\n",
       "    <tr>\n",
       "      <th>4</th>\n",
       "      <td>upon</td>\n",
       "      <td>kreise</td>\n",
       "      <td>elli</td>\n",
       "      <td>zóó</td>\n",
       "      <td>pues</td>\n",
       "      <td>mut</td>\n",
       "    </tr>\n",
       "    <tr>\n",
       "      <th>...</th>\n",
       "      <td>...</td>\n",
       "      <td>...</td>\n",
       "      <td>...</td>\n",
       "      <td>...</td>\n",
       "      <td>...</td>\n",
       "      <td>...</td>\n",
       "    </tr>\n",
       "    <tr>\n",
       "      <th>160</th>\n",
       "      <td>NaN</td>\n",
       "      <td>aug</td>\n",
       "      <td>quindi</td>\n",
       "      <td>NaN</td>\n",
       "      <td>pie</td>\n",
       "      <td>välillä</td>\n",
       "    </tr>\n",
       "    <tr>\n",
       "      <th>161</th>\n",
       "      <td>NaN</td>\n",
       "      <td>stadt</td>\n",
       "      <td>forte</td>\n",
       "      <td>NaN</td>\n",
       "      <td>dama</td>\n",
       "      <td>virka</td>\n",
       "    </tr>\n",
       "    <tr>\n",
       "      <th>162</th>\n",
       "      <td>NaN</td>\n",
       "      <td>zeigen</td>\n",
       "      <td>NaN</td>\n",
       "      <td>NaN</td>\n",
       "      <td>delante</td>\n",
       "      <td>NaN</td>\n",
       "    </tr>\n",
       "    <tr>\n",
       "      <th>163</th>\n",
       "      <td>NaN</td>\n",
       "      <td>wesen</td>\n",
       "      <td>NaN</td>\n",
       "      <td>NaN</td>\n",
       "      <td>paso</td>\n",
       "      <td>NaN</td>\n",
       "    </tr>\n",
       "    <tr>\n",
       "      <th>164</th>\n",
       "      <td>NaN</td>\n",
       "      <td>berg</td>\n",
       "      <td>NaN</td>\n",
       "      <td>NaN</td>\n",
       "      <td>NaN</td>\n",
       "      <td>NaN</td>\n",
       "    </tr>\n",
       "  </tbody>\n",
       "</table>\n",
       "<p>165 rows × 6 columns</p>\n",
       "</div>"
      ],
      "text/plain": [
       "    Dutch  German Italian English  Spanish  Finnish\n",
       "0    thou    wort      sì     den       si       mi\n",
       "1     one   ewgen  laltro     gij     allí      mut\n",
       "2    thee    wort      de     zoo      así     näin\n",
       "3    unto    sieh     ché    eene  después    mulle\n",
       "4    upon  kreise    elli     zóó     pues      mut\n",
       "..    ...     ...     ...     ...      ...      ...\n",
       "160   NaN     aug  quindi     NaN      pie  välillä\n",
       "161   NaN   stadt   forte     NaN     dama    virka\n",
       "162   NaN  zeigen     NaN     NaN  delante      NaN\n",
       "163   NaN   wesen     NaN     NaN     paso      NaN\n",
       "164   NaN    berg     NaN     NaN      NaN      NaN\n",
       "\n",
       "[165 rows x 6 columns]"
      ]
     },
     "execution_count": 214,
     "metadata": {},
     "output_type": "execute_result"
    }
   ],
   "source": [
    "aligned_df"
   ]
  },
  {
   "attachments": {},
   "cell_type": "markdown",
   "metadata": {},
   "source": [
    "def remover(lang):\n",
    "    removed_words = ['p', 'div', 'pg', 'gutenberg', 'project', 'html','doctype', 'pgheader', \n",
    "                     'pgfooter','sectionbody' ,'meta','email', 'http', 'www', 'org', 'cache',\n",
    "                    'epub', 'images', 'image', 'ebook', 'ebooks', 'display','initial','block', 'margintop',\n",
    "                    'marginbottom', 'marginleft', 'marginright', 'paddingtop', 'paddingbottom', 'paddingleft',\n",
    "                    '1em','2em','divagate']\n",
    "    for word in removed_words:\n",
    "        lang = [i for i in lang if i != word]\n",
    "    return lang\n",
    "tokenized_languages = [remover(tokenized_Dutch), remover(tokenized_German), remover(tokenized_Italian), remover(tokenized_English),\n",
    "                       remover(tokenized_Spanish), remover(tokenized_Finnish)]\n"
   ]
  },
  {
   "cell_type": "code",
   "execution_count": 194,
   "metadata": {},
   "outputs": [
    {
     "name": "stdout",
     "output_type": "stream",
     "text": [
      "31357\n",
      "53429\n",
      "58569\n",
      "57162\n",
      "62623\n",
      "79113\n"
     ]
    }
   ],
   "source": [
    "for tk in tokenized_languages:\n",
    "    print(len(tk))"
   ]
  },
  {
   "cell_type": "code",
   "execution_count": 215,
   "metadata": {},
   "outputs": [],
   "source": [
    "tokenized_English = eng150\n",
    "tokenized_German = ger_aligned\n",
    "tokenized_Italian = ita_aligned\n",
    "tokenized_Dutch = dut_aligned\n",
    "tokenized_Spanish = spa_aligned\n",
    "tokenized_Finnish = fin_aligned"
   ]
  },
  {
   "cell_type": "code",
   "execution_count": 216,
   "metadata": {},
   "outputs": [],
   "source": [
    "def skipgram(language):\n",
    "    return gensim.models.Word2Vec(language, vector_size = 50, sg = 1).wv\n",
    "def cbow(language):\n",
    "    return gensim.models.Word2Vec(language, vector_size = 50,sg = 0).wv"
   ]
  },
  {
   "cell_type": "code",
   "execution_count": 217,
   "metadata": {},
   "outputs": [],
   "source": [
    "skipgram_English = skipgram(tokenized_English)\n",
    "cbow_English = cbow(tokenized_English)\n",
    "skipgram_Dutch = skipgram(tokenized_Dutch)\n",
    "cbow_Dutch = cbow(tokenized_Dutch)\n",
    "skipgram_German = skipgram(tokenized_German)\n",
    "cbow_German = cbow(tokenized_German)\n",
    "skipgram_Italian = skipgram(tokenized_Italian)\n",
    "cbow_Italian = cbow(tokenized_Italian)\n",
    "skipgram_Spanish = skipgram(tokenized_Spanish)\n",
    "cbow_Spanish = cbow(tokenized_Spanish)\n",
    "skipgram_Finnish = skipgram(tokenized_Finnish)\n",
    "cbow_Finnish = cbow(tokenized_Finnish)\n",
    " "
   ]
  },
  {
   "cell_type": "code",
   "execution_count": 218,
   "metadata": {},
   "outputs": [],
   "source": [
    "cbow = [cbow_Dutch, cbow_German, cbow_Italian, cbow_English, cbow_Spanish, cbow_Finnish]\n",
    "cbow_names = 'cbow_'+pd.Series(names)\n",
    "skipgram = [skipgram_Dutch, skipgram_German, skipgram_Italian, skipgram_English, skipgram_Spanish, skipgram_Finnish]\n",
    "skipgram_names = 'skipgram_'+pd.Series(names)"
   ]
  },
  {
   "cell_type": "code",
   "execution_count": 219,
   "metadata": {},
   "outputs": [],
   "source": [
    "import matplotlib.pyplot as plt\n",
    "\n",
    "def flat(model):\n",
    "    vocab = list(model.index_to_key)\n",
    "    vectors = model[vocab]\n",
    "    vectors_flatten = vectors.flatten()\n",
    "    return vectors_flatten"
   ]
  },
  {
   "cell_type": "code",
   "execution_count": 220,
   "metadata": {},
   "outputs": [],
   "source": [
    "flat_skipgram_Dutch = flat(skipgram_Dutch)\n",
    "flat_skipgram_German = flat(skipgram_German)\n",
    "flat_skipgram_Italian = flat(skipgram_Italian)\n",
    "flat_skipgram_English = flat(skipgram_English)\n",
    "flat_skipgram_Spanish = flat(skipgram_Spanish)\n",
    "flat_skipgram_Finnish = flat(skipgram_Finnish)\n",
    "\n",
    "flat_cbow_Dutch = flat(cbow_Dutch)\n",
    "flat_cbow_German = flat(cbow_German)\n",
    "flat_cbow_Italian = flat(cbow_Italian)\n",
    "flat_cbow_English = flat(cbow_English)\n",
    "flat_cbow_Spanish = flat(cbow_Spanish)\n",
    "flat_cbow_Finnish = flat(cbow_Finnish)\n"
   ]
  },
  {
   "cell_type": "code",
   "execution_count": 221,
   "metadata": {},
   "outputs": [],
   "source": [
    "var_holder = {}\n",
    "for i in cbow:\n",
    "    langname = names[cbow.index(i)]\n",
    "    var_holder['flat_cbow_' + langname]= flat(i)\n",
    "\n",
    "locals().update(var_holder)\n",
    "flat_cbow_names = 'flat_cbow_'+pd.Series(names)"
   ]
  },
  {
   "cell_type": "code",
   "execution_count": 222,
   "metadata": {},
   "outputs": [
    {
     "data": {
      "image/png": "[encoded data removed]",
      "text/plain": [
       "<Figure size 1440x720 with 1 Axes>"
      ]
     },
     "metadata": {
      "needs_background": "light"
     },
     "output_type": "display_data"
    }
   ],
   "source": [
    "def plot(model, color = 'blue'):\n",
    "    plt.scatter(model[:100], np.arange(0,100), marker=\".\",c= color)\n",
    "plt.figure(figsize=(20,10))\n",
    "plt.title('Contuniuous Bag of Words (CBOW)')\n",
    "#plotting functions against their indexes\n",
    "plot(flat_cbow_Dutch, color = 'blue')\n",
    "plot(flat_cbow_German, color = 'red')\n",
    "plot(flat_cbow_Italian, color = 'green')\n",
    "plot(flat_cbow_English, color = 'yellow')\n",
    "plot(flat_cbow_Spanish, color = 'black')\n",
    "plot(flat_cbow_Finnish, color = 'purple')\n",
    "\n",
    "plt.legend(names)\n",
    "plt.show()"
   ]
  },
  {
   "cell_type": "code",
   "execution_count": 223,
   "metadata": {},
   "outputs": [
    {
     "data": {
      "image/png": "[encoded data removed]",
      "text/plain": [
       "<Figure size 1440x720 with 1 Axes>"
      ]
     },
     "metadata": {
      "needs_background": "light"
     },
     "output_type": "display_data"
    }
   ],
   "source": [
    "plt.figure(figsize=(20,10))\n",
    "plt.title('Skipgram')\n",
    "plot(flat_skipgram_Dutch, color = 'blue')\n",
    "plot(flat_skipgram_German, color = 'red')\n",
    "plot(flat_skipgram_Italian, color = 'green')\n",
    "plot(flat_skipgram_English, color = 'yellow')\n",
    "plot(flat_skipgram_Spanish, color = 'black')\n",
    "plot(flat_skipgram_Finnish, color = 'purple')\n",
    "plt.legend(names)\n",
    "plt.show()"
   ]
  },
  {
   "cell_type": "code",
   "execution_count": 224,
   "metadata": {},
   "outputs": [],
   "source": [
    "from sklearn.metrics.pairwise import cosine_similarity\n",
    "for_sim = pd.DataFrame([flat_skipgram_Dutch, flat_skipgram_German, flat_skipgram_Italian, flat_skipgram_English, flat_skipgram_Spanish, flat_skipgram_Finnish][:100])\n",
    "for_sim.index = names\n",
    "for_sim.dropna(axis = 1,inplace=True)"
   ]
  },
  {
   "cell_type": "code",
   "execution_count": 225,
   "metadata": {},
   "outputs": [
    {
     "data": {
      "text/html": [
       "<div>\n",
       "<style scoped>\n",
       "    .dataframe tbody tr th:only-of-type {\n",
       "        vertical-align: middle;\n",
       "    }\n",
       "\n",
       "    .dataframe tbody tr th {\n",
       "        vertical-align: top;\n",
       "    }\n",
       "\n",
       "    .dataframe thead th {\n",
       "        text-align: right;\n",
       "    }\n",
       "</style>\n",
       "<table border=\"1\" class=\"dataframe\">\n",
       "  <thead>\n",
       "    <tr style=\"text-align: right;\">\n",
       "      <th></th>\n",
       "      <th>0</th>\n",
       "      <th>1</th>\n",
       "      <th>2</th>\n",
       "      <th>3</th>\n",
       "      <th>4</th>\n",
       "      <th>5</th>\n",
       "    </tr>\n",
       "  </thead>\n",
       "  <tbody>\n",
       "    <tr>\n",
       "      <th>0</th>\n",
       "      <td>1.000000</td>\n",
       "      <td>0.999579</td>\n",
       "      <td>0.999682</td>\n",
       "      <td>0.999667</td>\n",
       "      <td>0.998982</td>\n",
       "      <td>0.999437</td>\n",
       "    </tr>\n",
       "    <tr>\n",
       "      <th>1</th>\n",
       "      <td>0.999579</td>\n",
       "      <td>1.000001</td>\n",
       "      <td>0.999664</td>\n",
       "      <td>0.999612</td>\n",
       "      <td>0.999132</td>\n",
       "      <td>0.999659</td>\n",
       "    </tr>\n",
       "    <tr>\n",
       "      <th>2</th>\n",
       "      <td>0.999682</td>\n",
       "      <td>0.999664</td>\n",
       "      <td>0.999999</td>\n",
       "      <td>0.999716</td>\n",
       "      <td>0.998909</td>\n",
       "      <td>0.999600</td>\n",
       "    </tr>\n",
       "    <tr>\n",
       "      <th>3</th>\n",
       "      <td>0.999667</td>\n",
       "      <td>0.999612</td>\n",
       "      <td>0.999716</td>\n",
       "      <td>1.000000</td>\n",
       "      <td>0.999042</td>\n",
       "      <td>0.999578</td>\n",
       "    </tr>\n",
       "    <tr>\n",
       "      <th>4</th>\n",
       "      <td>0.998982</td>\n",
       "      <td>0.999132</td>\n",
       "      <td>0.998909</td>\n",
       "      <td>0.999042</td>\n",
       "      <td>1.000000</td>\n",
       "      <td>0.999447</td>\n",
       "    </tr>\n",
       "    <tr>\n",
       "      <th>5</th>\n",
       "      <td>0.999437</td>\n",
       "      <td>0.999659</td>\n",
       "      <td>0.999600</td>\n",
       "      <td>0.999578</td>\n",
       "      <td>0.999447</td>\n",
       "      <td>1.000000</td>\n",
       "    </tr>\n",
       "  </tbody>\n",
       "</table>\n",
       "</div>"
      ],
      "text/plain": [
       "          0         1         2         3         4         5\n",
       "0  1.000000  0.999579  0.999682  0.999667  0.998982  0.999437\n",
       "1  0.999579  1.000001  0.999664  0.999612  0.999132  0.999659\n",
       "2  0.999682  0.999664  0.999999  0.999716  0.998909  0.999600\n",
       "3  0.999667  0.999612  0.999716  1.000000  0.999042  0.999578\n",
       "4  0.998982  0.999132  0.998909  0.999042  1.000000  0.999447\n",
       "5  0.999437  0.999659  0.999600  0.999578  0.999447  1.000000"
      ]
     },
     "execution_count": 225,
     "metadata": {},
     "output_type": "execute_result"
    }
   ],
   "source": [
    "from sklearn.metrics.pairwise import cosine_similarity\n",
    "\n",
    "sim = cosine_similarity(for_sim)\n",
    "pd.DataFrame(sim)"
   ]
  },
  {
   "cell_type": "code",
   "execution_count": 226,
   "metadata": {},
   "outputs": [
    {
     "data": {
      "image/png": "[encoded data removed]",
      "text/plain": [
       "<Figure size 1152x648 with 1 Axes>"
      ]
     },
     "metadata": {
      "needs_background": "light"
     },
     "output_type": "display_data"
    }
   ],
   "source": [
    "from scipy.cluster.hierarchy import dendrogram, linkage\n",
    "Z = linkage(sim, 'ward')\n",
    "plt.figure(figsize=(16, 9))\n",
    "labels = for_sim.columns\n",
    "dendrogram(Z, leaf_rotation=90, leaf_font_size=7., labels = names)\n",
    "plt.title('Dendrogram')\n",
    "plt.ylabel('Distance')\n",
    "plt.xlabel('Language')\n",
    "plt.xticks(rotation = 45, fontsize = 10)\n",
    "\n",
    "plt.show()"
   ]
  },
  {
   "cell_type": "code",
   "execution_count": 227,
   "metadata": {},
   "outputs": [],
   "source": [
    "for_sim_cbow = pd.DataFrame([flat_cbow_Dutch, flat_cbow_German, flat_cbow_Italian, flat_cbow_English, flat_cbow_Spanish, flat_cbow_Finnish][:100])\n",
    "for_sim_cbow.index = names\n",
    "for_sim_cbow.dropna(axis = 1, inplace = True)\n"
   ]
  },
  {
   "cell_type": "code",
   "execution_count": 228,
   "metadata": {},
   "outputs": [
    {
     "data": {
      "text/html": [
       "<div>\n",
       "<style scoped>\n",
       "    .dataframe tbody tr th:only-of-type {\n",
       "        vertical-align: middle;\n",
       "    }\n",
       "\n",
       "    .dataframe tbody tr th {\n",
       "        vertical-align: top;\n",
       "    }\n",
       "\n",
       "    .dataframe thead th {\n",
       "        text-align: right;\n",
       "    }\n",
       "</style>\n",
       "<table border=\"1\" class=\"dataframe\">\n",
       "  <thead>\n",
       "    <tr style=\"text-align: right;\">\n",
       "      <th></th>\n",
       "      <th>0</th>\n",
       "      <th>1</th>\n",
       "      <th>2</th>\n",
       "      <th>3</th>\n",
       "      <th>4</th>\n",
       "      <th>5</th>\n",
       "    </tr>\n",
       "  </thead>\n",
       "  <tbody>\n",
       "    <tr>\n",
       "      <th>0</th>\n",
       "      <td>1.000000</td>\n",
       "      <td>0.999814</td>\n",
       "      <td>0.999843</td>\n",
       "      <td>0.999823</td>\n",
       "      <td>0.999482</td>\n",
       "      <td>0.999820</td>\n",
       "    </tr>\n",
       "    <tr>\n",
       "      <th>1</th>\n",
       "      <td>0.999814</td>\n",
       "      <td>1.000000</td>\n",
       "      <td>0.999792</td>\n",
       "      <td>0.999782</td>\n",
       "      <td>0.999475</td>\n",
       "      <td>0.999826</td>\n",
       "    </tr>\n",
       "    <tr>\n",
       "      <th>2</th>\n",
       "      <td>0.999843</td>\n",
       "      <td>0.999792</td>\n",
       "      <td>0.999999</td>\n",
       "      <td>0.999818</td>\n",
       "      <td>0.999341</td>\n",
       "      <td>0.999863</td>\n",
       "    </tr>\n",
       "    <tr>\n",
       "      <th>3</th>\n",
       "      <td>0.999823</td>\n",
       "      <td>0.999782</td>\n",
       "      <td>0.999818</td>\n",
       "      <td>1.000000</td>\n",
       "      <td>0.999460</td>\n",
       "      <td>0.999824</td>\n",
       "    </tr>\n",
       "    <tr>\n",
       "      <th>4</th>\n",
       "      <td>0.999482</td>\n",
       "      <td>0.999475</td>\n",
       "      <td>0.999341</td>\n",
       "      <td>0.999460</td>\n",
       "      <td>1.000000</td>\n",
       "      <td>0.999600</td>\n",
       "    </tr>\n",
       "    <tr>\n",
       "      <th>5</th>\n",
       "      <td>0.999820</td>\n",
       "      <td>0.999826</td>\n",
       "      <td>0.999863</td>\n",
       "      <td>0.999824</td>\n",
       "      <td>0.999600</td>\n",
       "      <td>1.000000</td>\n",
       "    </tr>\n",
       "  </tbody>\n",
       "</table>\n",
       "</div>"
      ],
      "text/plain": [
       "          0         1         2         3         4         5\n",
       "0  1.000000  0.999814  0.999843  0.999823  0.999482  0.999820\n",
       "1  0.999814  1.000000  0.999792  0.999782  0.999475  0.999826\n",
       "2  0.999843  0.999792  0.999999  0.999818  0.999341  0.999863\n",
       "3  0.999823  0.999782  0.999818  1.000000  0.999460  0.999824\n",
       "4  0.999482  0.999475  0.999341  0.999460  1.000000  0.999600\n",
       "5  0.999820  0.999826  0.999863  0.999824  0.999600  1.000000"
      ]
     },
     "execution_count": 228,
     "metadata": {},
     "output_type": "execute_result"
    }
   ],
   "source": [
    "sim_cbow = cosine_similarity(for_sim_cbow)\n",
    "pd.DataFrame(sim_cbow)\n"
   ]
  },
  {
   "cell_type": "code",
   "execution_count": 229,
   "metadata": {},
   "outputs": [
    {
     "data": {
      "text/plain": [
       "(array([ 5, 15, 25, 35, 45, 55]),\n",
       " [Text(5, 0, 'Spanish'),\n",
       "  Text(15, 0, 'Italian'),\n",
       "  Text(25, 0, 'Dutch'),\n",
       "  Text(35, 0, 'English'),\n",
       "  Text(45, 0, 'German'),\n",
       "  Text(55, 0, 'Finnish')])"
      ]
     },
     "execution_count": 229,
     "metadata": {},
     "output_type": "execute_result"
    },
    {
     "data": {
      "image/png": "[encoded data removed]",
      "text/plain": [
       "<Figure size 1152x648 with 1 Axes>"
      ]
     },
     "metadata": {
      "needs_background": "light"
     },
     "output_type": "display_data"
    }
   ],
   "source": [
    "Z_cbow = linkage(sim_cbow, 'ward')\n",
    "plt.figure(figsize=(16, 9))\n",
    "labels = for_sim_cbow.columns\n",
    "dendrogram(Z_cbow, leaf_rotation=90, leaf_font_size=7., labels = names)\n",
    "plt.title('Dendrogram')\n",
    "plt.ylabel('Distance')\n",
    "plt.xlabel('Language')\n",
    "plt.xticks(rotation = 45, fontsize = 10)\n"
   ]
  }
 ],
 "metadata": {
  "kernelspec": {
   "display_name": "base",
   "language": "python",
   "name": "python3"
  },
  "language_info": {
   "codemirror_mode": {
    "name": "ipython",
    "version": 3
   },
   "file_extension": ".py",
   "mimetype": "text/x-python",
   "name": "python",
   "nbconvert_exporter": "python",
   "pygments_lexer": "ipython3",
   "version": "3.9.12"
  },
  "orig_nbformat": 4
 },
 "nbformat": 4,
 "nbformat_minor": 2
}
