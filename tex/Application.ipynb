{
 "cells": [
  {
   "attachments": {},
   "cell_type": "markdown",
   "metadata": {},
   "source": [
    "<span style=\"font-family: Times New Roman;font-size: 20px\"> \n",
    "Firstly, required libraries are imported. pandas library is used for data manipulation and analysis, while functions from nltk library are used for text processing: word_tokenize is used for tokenization, stopwords is used for removing stopwords, and WordNetLemmatizer is used for lemmatization. In following, gensim is used for Word2Vec model. matplotlib.pyplot is used for plotting. Also, cosine_similarity is used for calculating cosine similarity between two vectors while dendogram and linkage are used for hierarchical clustering."
   ]
  },
  {
   "cell_type": "code",
   "execution_count": 1,
   "metadata": {},
   "outputs": [],
   "source": [
    "import pandas as pd\n",
    "import nltk\n",
    "from nltk.tokenize import word_tokenize\n",
    "from nltk.corpus import stopwords\n",
    "from nltk.stem import WordNetLemmatizer\n",
    "import gensim\n",
    "import gensim.downloader as api\n",
    "from gensim.models import word2vec\n",
    "from simalign import SentenceAligner\n",
    "import matplotlib.pyplot as plt\n",
    "from sklearn.metrics.pairwise import cosine_similarity\n",
    "from scipy.cluster.hierarchy import dendrogram, linkage"
   ]
  },
  {
   "attachments": {},
   "cell_type": "markdown",
   "metadata": {},
   "source": [
    "<span style=\"font-family: Times New Roman;font-size: 20px\"> \n",
    "After importing required libraries, data is imported. Data is acquired by Gutenberg Project as discussed in previous chapters and saved as txt files."
   ]
  },
  {
   "cell_type": "code",
   "execution_count": 2,
   "metadata": {},
   "outputs": [],
   "source": [
    "Dutch = open('Dutch.txt').read()\n",
    "English = open('English.txt').read()\n",
    "Finnish = open('Finnish.txt').read()\n",
    "German = open('German.txt').read()\n",
    "Italian = open('Italian.txt').read()\n",
    "languages = [Dutch, English, Finnish, German, Italian]\n",
    "names = ['Dutch', 'English', 'Finnish', 'German', 'Italian']"
   ]
  },
  {
   "attachments": {},
   "cell_type": "markdown",
   "metadata": {},
   "source": [
    "<span style=\"font-family: Times New Roman;font-size: 20px\"> \n",
    "This is followed by lemmatization and tokenization processes. Lemmatization is grouping together the inflected forms of words to analyze them as a single item, while tokenization is the process of breaking a stream of text up into words, phrases, symbols, or other meaningful elements called tokens. Tokenization is followed by removal of stopwords from the dataset. This processed datasets are saved as tokenized_\"language_name\" variables.\n"
   ]
  },
  {
   "cell_type": "code",
   "execution_count": 3,
   "metadata": {},
   "outputs": [],
   "source": [
    "def data_tokenizer(language, language_name, encoding = 'utf-8'):\n",
    "    lemmatized = WordNetLemmatizer().lemmatize(language)\n",
    "    tokenized = nltk.word_tokenize(lemmatized)\n",
    "    f=[word.lower() for word in tokenized if word.isalpha()]\n",
    "    stop_words = set(nltk.corpus.stopwords.words(language_name))\n",
    "    [stopped] = [[i for i in j if i not in stop_words] for j in [f]]\n",
    "    return stopped\n",
    "\n",
    "tokenized_Dutch = data_tokenizer(Dutch,'Dutch')\n",
    "tokenized_English = data_tokenizer(English,'English')\n",
    "tokenized_Finnish = data_tokenizer(Finnish,'Finnish')\n",
    "tokenized_German = data_tokenizer(German,'German')\n",
    "tokenized_Italian = data_tokenizer(Italian,'Italian')\n",
    "tokenized_names = 'tokenized_'+pd.Series(names)\n",
    "tokenized_languages = [tokenized_Dutch, tokenized_English, tokenized_Finnish, tokenized_German, tokenized_Italian]"
   ]
  },
  {
   "attachments": {},
   "cell_type": "markdown",
   "metadata": {},
   "source": [
    "<span style=\"font-family: Times New Roman;font-size: 20px\"> \n",
    "For more consistent models, only most common 50 words are selected and used for further analysis. This is done by using most_common_words function. This function takes a list and transforms it to a dataset, then counts the number of words and sorts them in descending order. Finally, it returns the most common 50 words."
   ]
  },
  {
   "cell_type": "code",
   "execution_count": 4,
   "metadata": {},
   "outputs": [],
   "source": [
    "def most_common_words(lang):\n",
    "    df = pd.DataFrame(lang, columns = ['Language'])\n",
    "    df_sorted = df.groupby(['Language'])['Language'].count().reset_index(\n",
    "                        name='Count').sort_values(['Count'], ascending=False)\n",
    "    return df_sorted.Language[:50].reset_index(drop=True)\n",
    "\n",
    "Dutch_most_common = most_common_words(tokenized_Dutch)\n",
    "English_most_common = most_common_words(tokenized_English)\n",
    "Finnish_most_common = most_common_words(tokenized_Finnish)\n",
    "German_most_common = most_common_words(tokenized_German)\n",
    "Italian_most_common = most_common_words(tokenized_Italian)\n",
    "most_common_names = 'most_common_'+pd.Series(names)\n",
    "most_common_languages = [Dutch_most_common, English_most_common, Finnish_most_common, German_most_common, Italian_most_common]\n",
    "most_common_words_ = pd.DataFrame(most_common_languages).T\n",
    "most_common_words_.columns = most_common_names"
   ]
  },
  {
   "attachments": {},
   "cell_type": "markdown",
   "metadata": {},
   "source": [
    "<span style=\"font-family: Times New Roman;font-size: 20px\"> \n",
    "Most common words can are as following:"
   ]
  },
  {
   "cell_type": "code",
   "execution_count": 5,
   "metadata": {},
   "outputs": [
    {
     "data": {
      "text/html": [
       "<div>\n",
       "<style scoped>\n",
       "    .dataframe tbody tr th:only-of-type {\n",
       "        vertical-align: middle;\n",
       "    }\n",
       "\n",
       "    .dataframe tbody tr th {\n",
       "        vertical-align: top;\n",
       "    }\n",
       "\n",
       "    .dataframe thead th {\n",
       "        text-align: right;\n",
       "    }\n",
       "</style>\n",
       "<table border=\"1\" class=\"dataframe\">\n",
       "  <thead>\n",
       "    <tr style=\"text-align: right;\">\n",
       "      <th></th>\n",
       "      <th>most_common_Dutch</th>\n",
       "      <th>most_common_English</th>\n",
       "      <th>most_common_Finnish</th>\n",
       "      <th>most_common_German</th>\n",
       "      <th>most_common_Italian</th>\n",
       "    </tr>\n",
       "  </thead>\n",
       "  <tbody>\n",
       "    <tr>\n",
       "      <th>0</th>\n",
       "      <td>den</td>\n",
       "      <td>thou</td>\n",
       "      <td>ma</td>\n",
       "      <td>sprach</td>\n",
       "      <td>ch</td>\n",
       "    </tr>\n",
       "    <tr>\n",
       "      <th>1</th>\n",
       "      <td>gij</td>\n",
       "      <td>one</td>\n",
       "      <td>mi</td>\n",
       "      <td>sah</td>\n",
       "      <td>sì</td>\n",
       "    </tr>\n",
       "    <tr>\n",
       "      <th>2</th>\n",
       "      <td>zoo</td>\n",
       "      <td>thee</td>\n",
       "      <td>mut</td>\n",
       "      <td>drum</td>\n",
       "      <td>de</td>\n",
       "    </tr>\n",
       "    <tr>\n",
       "      <th>3</th>\n",
       "      <td>zóó</td>\n",
       "      <td>unto</td>\n",
       "      <td>näin</td>\n",
       "      <td>schon</td>\n",
       "      <td>d</td>\n",
       "    </tr>\n",
       "    <tr>\n",
       "      <th>4</th>\n",
       "      <td>wanneer</td>\n",
       "      <td>upon</td>\n",
       "      <td>sa</td>\n",
       "      <td>mehr</td>\n",
       "      <td>s</td>\n",
       "    </tr>\n",
       "    <tr>\n",
       "      <th>5</th>\n",
       "      <td>zeide</td>\n",
       "      <td>said</td>\n",
       "      <td>mun</td>\n",
       "      <td>wohl</td>\n",
       "      <td>quel</td>\n",
       "    </tr>\n",
       "    <tr>\n",
       "      <th>6</th>\n",
       "      <td>wij</td>\n",
       "      <td>thy</td>\n",
       "      <td>jo</td>\n",
       "      <td>ward</td>\n",
       "      <td>me</td>\n",
       "    </tr>\n",
       "    <tr>\n",
       "      <th>7</th>\n",
       "      <td>waar</td>\n",
       "      <td>us</td>\n",
       "      <td>mulle</td>\n",
       "      <td>licht</td>\n",
       "      <td>poi</td>\n",
       "    </tr>\n",
       "    <tr>\n",
       "      <th>8</th>\n",
       "      <td>mijne</td>\n",
       "      <td>made</td>\n",
       "      <td>min</td>\n",
       "      <td>gleich</td>\n",
       "      <td>così</td>\n",
       "    </tr>\n",
       "    <tr>\n",
       "      <th>9</th>\n",
       "      <td>oogen</td>\n",
       "      <td>eyes</td>\n",
       "      <td>kaikki</td>\n",
       "      <td>wer</td>\n",
       "      <td>là</td>\n",
       "    </tr>\n",
       "  </tbody>\n",
       "</table>\n",
       "</div>"
      ],
      "text/plain": [
       "  most_common_Dutch most_common_English most_common_Finnish  \\\n",
       "0               den                thou                  ma   \n",
       "1               gij                 one                  mi   \n",
       "2               zoo                thee                 mut   \n",
       "3               zóó                unto                näin   \n",
       "4           wanneer                upon                  sa   \n",
       "5             zeide                said                 mun   \n",
       "6               wij                 thy                  jo   \n",
       "7              waar                  us               mulle   \n",
       "8             mijne                made                 min   \n",
       "9             oogen                eyes              kaikki   \n",
       "\n",
       "  most_common_German most_common_Italian  \n",
       "0             sprach                  ch  \n",
       "1                sah                  sì  \n",
       "2               drum                  de  \n",
       "3              schon                   d  \n",
       "4               mehr                   s  \n",
       "5               wohl                quel  \n",
       "6               ward                  me  \n",
       "7              licht                 poi  \n",
       "8             gleich                così  \n",
       "9                wer                  là  "
      ]
     },
     "execution_count": 5,
     "metadata": {},
     "output_type": "execute_result"
    }
   ],
   "source": [
    "most_common_words_.head(10)"
   ]
  },
  {
   "attachments": {},
   "cell_type": "markdown",
   "metadata": {},
   "source": [
    "<span style=\"font-family: Times New Roman;font-size: 20px\"> \n",
    "After that, most common 50 words are aligned between each other to be used in word2vec model. This is done by alingment function. This function takes a language and alings it with English. It returns aligned_\"language_name\" variables. While aligning, mwmf key is used because it has the best results."
   ]
  },
  {
   "cell_type": "code",
   "execution_count": 6,
   "metadata": {},
   "outputs": [
    {
     "name": "stderr",
     "output_type": "stream",
     "text": [
      "Some weights of the model checkpoint at bert-base-multilingual-cased were not used when initializing BertModel: ['cls.predictions.decoder.weight', 'cls.predictions.transform.dense.weight', 'cls.predictions.transform.LayerNorm.weight', 'cls.predictions.bias', 'cls.predictions.transform.LayerNorm.bias', 'cls.seq_relationship.bias', 'cls.seq_relationship.weight', 'cls.predictions.transform.dense.bias']\n",
      "- This IS expected if you are initializing BertModel from the checkpoint of a model trained on another task or with another architecture (e.g. initializing a BertForSequenceClassification model from a BertForPreTraining model).\n",
      "- This IS NOT expected if you are initializing BertModel from the checkpoint of a model that you expect to be exactly identical (initializing a BertForSequenceClassification model from a BertForSequenceClassification model).\n",
      "2023-06-08 17:10:41,285 - simalign.simalign - INFO - Initialized the EmbeddingLoader with model: bert-base-multilingual-cased\n"
     ]
    }
   ],
   "source": [
    "aligner =  SentenceAligner(model=\"bert\", token_type=\"bpe\", matching_methods=\"mai\")\n",
    "def alingment(language):\n",
    "    aligned = aligner.get_word_aligns(English_most_common.to_list(), language.to_list())\n",
    "    mwmf = pd.DataFrame(aligned['mwmf'])\n",
    "    return language.reindex(mwmf[0]).reset_index(drop=True)"
   ]
  },
  {
   "cell_type": "code",
   "execution_count": 7,
   "metadata": {},
   "outputs": [],
   "source": [
    "Dutch_aligned = alingment(Dutch_most_common)\n",
    "English_aligned = alingment(English_most_common)\n",
    "Finnish_aligned = alingment(Finnish_most_common)\n",
    "German_aligned = alingment(German_most_common)\n",
    "Italian_aligned = alingment(Italian_most_common)\n",
    "aligned_names = 'aligned_'+pd.Series(names)\n",
    "aligned_languages = [Dutch_aligned, English_aligned, Finnish_aligned, German_aligned, Italian_aligned]\n",
    "Aligned_DataFrame = pd.DataFrame(aligned_languages).T\n",
    "Aligned_DataFrame.columns = names"
   ]
  },
  {
   "attachments": {},
   "cell_type": "markdown",
   "metadata": {},
   "source": [
    "<span style=\"font-family: Times New Roman;font-size: 20px\"> \n",
    "After aligning, most common 10 aligned words are as following:"
   ]
  },
  {
   "cell_type": "code",
   "execution_count": 8,
   "metadata": {},
   "outputs": [
    {
     "data": {
      "text/html": [
       "<div>\n",
       "<style scoped>\n",
       "    .dataframe tbody tr th:only-of-type {\n",
       "        vertical-align: middle;\n",
       "    }\n",
       "\n",
       "    .dataframe tbody tr th {\n",
       "        vertical-align: top;\n",
       "    }\n",
       "\n",
       "    .dataframe thead th {\n",
       "        text-align: right;\n",
       "    }\n",
       "</style>\n",
       "<table border=\"1\" class=\"dataframe\">\n",
       "  <thead>\n",
       "    <tr style=\"text-align: right;\">\n",
       "      <th></th>\n",
       "      <th>Dutch</th>\n",
       "      <th>English</th>\n",
       "      <th>Finnish</th>\n",
       "      <th>German</th>\n",
       "      <th>Italian</th>\n",
       "    </tr>\n",
       "  </thead>\n",
       "  <tbody>\n",
       "    <tr>\n",
       "      <th>0</th>\n",
       "      <td>den</td>\n",
       "      <td>thou</td>\n",
       "      <td>ma</td>\n",
       "      <td>sprach</td>\n",
       "      <td>ch</td>\n",
       "    </tr>\n",
       "    <tr>\n",
       "      <th>1</th>\n",
       "      <td>den</td>\n",
       "      <td>one</td>\n",
       "      <td>ma</td>\n",
       "      <td>sprach</td>\n",
       "      <td>ch</td>\n",
       "    </tr>\n",
       "    <tr>\n",
       "      <th>2</th>\n",
       "      <td>gij</td>\n",
       "      <td>thee</td>\n",
       "      <td>mi</td>\n",
       "      <td>sah</td>\n",
       "      <td>sì</td>\n",
       "    </tr>\n",
       "    <tr>\n",
       "      <th>3</th>\n",
       "      <td>zoo</td>\n",
       "      <td>unto</td>\n",
       "      <td>mut</td>\n",
       "      <td>drum</td>\n",
       "      <td>de</td>\n",
       "    </tr>\n",
       "    <tr>\n",
       "      <th>4</th>\n",
       "      <td>zóó</td>\n",
       "      <td>upon</td>\n",
       "      <td>näin</td>\n",
       "      <td>drum</td>\n",
       "      <td>d</td>\n",
       "    </tr>\n",
       "    <tr>\n",
       "      <th>5</th>\n",
       "      <td>wanneer</td>\n",
       "      <td>said</td>\n",
       "      <td>sa</td>\n",
       "      <td>schon</td>\n",
       "      <td>d</td>\n",
       "    </tr>\n",
       "    <tr>\n",
       "      <th>6</th>\n",
       "      <td>zeide</td>\n",
       "      <td>thy</td>\n",
       "      <td>mun</td>\n",
       "      <td>schon</td>\n",
       "      <td>s</td>\n",
       "    </tr>\n",
       "    <tr>\n",
       "      <th>7</th>\n",
       "      <td>wij</td>\n",
       "      <td>us</td>\n",
       "      <td>jo</td>\n",
       "      <td>mehr</td>\n",
       "      <td>quel</td>\n",
       "    </tr>\n",
       "    <tr>\n",
       "      <th>8</th>\n",
       "      <td>wij</td>\n",
       "      <td>made</td>\n",
       "      <td>jo</td>\n",
       "      <td>wohl</td>\n",
       "      <td>me</td>\n",
       "    </tr>\n",
       "    <tr>\n",
       "      <th>9</th>\n",
       "      <td>waar</td>\n",
       "      <td>eyes</td>\n",
       "      <td>mulle</td>\n",
       "      <td>ward</td>\n",
       "      <td>poi</td>\n",
       "    </tr>\n",
       "  </tbody>\n",
       "</table>\n",
       "</div>"
      ],
      "text/plain": [
       "     Dutch English Finnish  German Italian\n",
       "0      den    thou      ma  sprach      ch\n",
       "1      den     one      ma  sprach      ch\n",
       "2      gij    thee      mi     sah      sì\n",
       "3      zoo    unto     mut    drum      de\n",
       "4      zóó    upon    näin    drum       d\n",
       "5  wanneer    said      sa   schon       d\n",
       "6    zeide     thy     mun   schon       s\n",
       "7      wij      us      jo    mehr    quel\n",
       "8      wij    made      jo    wohl      me\n",
       "9     waar    eyes   mulle    ward     poi"
      ]
     },
     "execution_count": 8,
     "metadata": {},
     "output_type": "execute_result"
    }
   ],
   "source": [
    "Aligned_DataFrame.head(10)"
   ]
  },
  {
   "attachments": {},
   "cell_type": "markdown",
   "metadata": {},
   "source": [
    "<span style=\"font-family: Times New Roman;font-size: 20px\"> \n",
    "This aligned words are going to be used in Word2Vec model. There will be 2 Word2Vec models for each language. One will be trained with Skip-Gram, while other will be trained with CBOW."
   ]
  },
  {
   "cell_type": "code",
   "execution_count": 9,
   "metadata": {},
   "outputs": [],
   "source": [
    "def skipgram(language):\n",
    "    return gensim.models.Word2Vec(language, vector_size = 50, sg = 1).wv\n",
    "def cbow(language):\n",
    "    return gensim.models.Word2Vec(language, vector_size = 50,sg = 0).wv\n",
    "\n",
    "skipgram_Dutch = skipgram(Dutch_aligned)\n",
    "skipgram_English = skipgram(English_aligned)\n",
    "skipgram_Finnish = skipgram(Finnish_aligned)\n",
    "skipgram_German = skipgram(German_aligned)\n",
    "skipgram_Italian = skipgram(Italian_aligned)\n",
    "\n",
    "cbow_Dutch = cbow(Dutch_aligned)\n",
    "cbow_English = cbow(English_aligned)\n",
    "cbow_Finnish = cbow(Finnish_aligned)\n",
    "cbow_German = cbow(German_aligned)\n",
    "cbow_Italian = cbow(Italian_aligned)"
   ]
  },
  {
   "attachments": {},
   "cell_type": "markdown",
   "metadata": {},
   "source": [
    "<span style=\"font-family: Times New Roman;font-size: 20px\"> \n",
    "For using Word2Vec model in clustering, each word must be represented by a vector instead of a matrix. Due to that, following <b> flat() </b> function is for flattening the language matrices. This function takes the language matrix, and transforms it into a list. After that, it flattens the list and returns it."
   ]
  },
  {
   "cell_type": "code",
   "execution_count": 10,
   "metadata": {},
   "outputs": [],
   "source": [
    "def flat(model):\n",
    "    vocab = list(model.index_to_key)\n",
    "    vectors = model[vocab]\n",
    "    vectors_flatten = vectors.flatten()\n",
    "    return vectors_flatten"
   ]
  },
  {
   "attachments": {},
   "cell_type": "markdown",
   "metadata": {},
   "source": [
    "<span style=\"font-family: Times New Roman;font-size: 20px\"> \n",
    "In this part, Skip-Gram model will be used for clustering. Firstly, each language is flattened and saved as an array. After that, those vectors are combined as a dataframe named skipgram. Names of the languages is index of this dataset and and columns are corresponding vectors. NaN values are droppen to being able to use the dataframe in clustering."
   ]
  },
  {
   "cell_type": "code",
   "execution_count": 11,
   "metadata": {},
   "outputs": [],
   "source": [
    "flat_skipgram_Dutch = flat(skipgram_Dutch)\n",
    "flat_skipgram_English = flat(skipgram_English)\n",
    "flat_skipgram_Finnish = flat(skipgram_Finnish)\n",
    "flat_skipgram_German = flat(skipgram_German)\n",
    "flat_skipgram_Italian = flat(skipgram_Italian)\n",
    "skipgram = pd.DataFrame([flat_skipgram_Dutch, flat_skipgram_English, flat_skipgram_Finnish, flat_skipgram_German, flat_skipgram_Italian],index=names).dropna(axis=1)"
   ]
  },
  {
   "attachments": {},
   "cell_type": "markdown",
   "metadata": {},
   "source": [
    "<span style=\"font-family: Times New Roman;font-size: 20px\"> \n",
    "After creating skipgram dataframe, cosine similarity is calculated for the dataset. This metric returns cosine value of angle between two vectors. If this cosine value is 1, it means that two vectors are identical. If it is 0, it means that two vectors are orthogonal. If it is -1, it means that two vectors are opposite of each other. After calculating cosine similarity, linkage is used for hierarchical clustering. This linkage function takes cosine similarity as input and returns a linkage matrix. Linkage matrix is a matrix that contains information about hierarchical clustering. This is followed by plotting dendogram. Dendogram is a tree diagram that shows the arrangement of the clusters produced by hierarchical clustering. X label of the dendogram is the languages, while Y label is the distance between clusters. The dendogram can be seen below."
   ]
  },
  {
   "cell_type": "code",
   "execution_count": 12,
   "metadata": {},
   "outputs": [
    {
     "data": {
      "image/png": "[encoded data removed]",
      "text/plain": [
       "<Figure size 1152x648 with 1 Axes>"
      ]
     },
     "metadata": {
      "needs_background": "light"
     },
     "output_type": "display_data"
    }
   ],
   "source": [
    "skipgram_similarity = cosine_similarity(skipgram)\n",
    "Z = linkage(skipgram_similarity, 'ward')\n",
    "plt.figure(figsize=(16, 9))\n",
    "dendrogram(Z, leaf_rotation=90, leaf_font_size=7., labels = skipgram.index)\n",
    "plt.title('Dendogram Created by Skip-Gram')\n",
    "plt.ylabel('Distance')\n",
    "plt.xlabel('Language')\n",
    "plt.xticks(rotation = 45, fontsize = 10)\n",
    "\n",
    "plt.show()"
   ]
  },
  {
   "attachments": {},
   "cell_type": "markdown",
   "metadata": {},
   "source": [
    "<span style=\"font-family: Times New Roman;font-size: 20px\"> \n",
    "As it can be seen in the dendogram, Finnish is clustered different from other 4 languages. This is caused by the fact that Finnish is not an Indo-European language. Finnish is an Uralic language, which is a language family that contains languages such as Hungarian and Estonian. Furthermore, Italian is also clustered different from other 3 languages. This is caused by the fact that Italian is a Romance language, which is a language family that contains languages such as Spanish and French. Finally, Dutch and English is clustered together instead of German. This is caused by the fact that Dutch and English are West Germanic languages, while German is a High Germanic language. Thanks to these results, it can be said that clustering by Skip-Gram algorithm is successful. "
   ]
  },
  {
   "attachments": {},
   "cell_type": "markdown",
   "metadata": {},
   "source": [
    "<span style=\"font-family: Times New Roman;font-size: 20px\"> \n",
    "After Skip-Gram, CBOW model will be used for clustering. Firstly, each language is flattened and saved as an array. After that, those vectors are combined as a dataset named cbow. Names of the languages is index of this dataset and and columns are corresponding vectors. To use in clustering, NaN values are dropped."
   ]
  },
  {
   "cell_type": "code",
   "execution_count": 13,
   "metadata": {},
   "outputs": [],
   "source": [
    "flat_cbow_Dutch = flat(cbow_Dutch)\n",
    "flat_cbow_English = flat(cbow_English)\n",
    "flat_cbow_Finnish = flat(cbow_Finnish)\n",
    "flat_cbow_German = flat(cbow_German)\n",
    "flat_cbow_Italian = flat(cbow_Italian)\n",
    "cbow = pd.DataFrame([flat_cbow_Dutch, flat_cbow_English, flat_cbow_Finnish, flat_cbow_German, flat_cbow_Italian],index=names).dropna(axis=1)"
   ]
  },
  {
   "attachments": {},
   "cell_type": "markdown",
   "metadata": {},
   "source": [
    "<span style=\"font-family: Times New Roman;font-size: 20px\"> \n",
    "cbow dataframe is used to calculate cosine similarity with the function cosine_similarity. While this section of the code is same with the previous one, it is repeated to be able to compare results. After calculating cosine similarity, linkage is used for hierarchical clustering. This linkage function takes cosine similarity as input and returns a linkage matrix. This is followed by plotting dendogram. Dendogram is a tree diagram that shows the arrangement of the clusters produced by hierarchical clustering. Labels are same as Skip-Gram dendogram: X label of the dendogram is the languages, while Y label is the distance between clusters. The dendogram can be seen below."
   ]
  },
  {
   "cell_type": "code",
   "execution_count": 14,
   "metadata": {},
   "outputs": [
    {
     "data": {
      "image/png": "[encoded data removed]",
      "text/plain": [
       "<Figure size 1152x648 with 1 Axes>"
      ]
     },
     "metadata": {
      "needs_background": "light"
     },
     "output_type": "display_data"
    }
   ],
   "source": [
    "cbow_similarity = cosine_similarity(cbow)\n",
    "Z_cbow = linkage(cbow_similarity, 'ward')\n",
    "plt.figure(figsize=(16, 9))\n",
    "dendrogram(Z_cbow, leaf_rotation=90, leaf_font_size=7., labels = cbow.index)\n",
    "plt.title('Dendrogram Created by CBOW')\n",
    "plt.ylabel('Distance')\n",
    "plt.xlabel('Language')\n",
    "plt.xticks(rotation = 45, fontsize = 10)\n",
    "plt.show()"
   ]
  },
  {
   "attachments": {},
   "cell_type": "markdown",
   "metadata": {},
   "source": [
    "<span style=\"font-family: Times New Roman;font-size: 20px\"> \n",
    "In this dendogram, it can be seen that Dutch and English are clustered close to each other and German is the closest language to them. This relationship caused by the same reason as Skip-Gram dendogram: While Dutch and English are West Germanic languages, German is a High Germanic language. Furthermore, instead of being clustered with other Indo-European languages, Italian is clustered with Uralic language Finnish in this dendogram. This mistake might be caused by morphological similarity between Italian and Finnish. Instead of generating surrounding words from center word, CBOW model generates center word from surrounding words, and that might cause to morphological similarity of those two languages to effect clustering. Finally, it can be seen that except Italian, the clustering is same as Skip-Gram dendogram. Thanks to these results, it can be said that clustering by CBOW algorithm partially successful."
   ]
  }
 ],
 "metadata": {
  "kernelspec": {
   "display_name": "base",
   "language": "python",
   "name": "python3"
  },
  "language_info": {
   "codemirror_mode": {
    "name": "ipython",
    "version": 3
   },
   "file_extension": ".py",
   "mimetype": "text/x-python",
   "name": "python",
   "nbconvert_exporter": "python",
   "pygments_lexer": "ipython3",
   "version": "3.9.12"
  },
  "orig_nbformat": 4
 },
 "nbformat": 4,
 "nbformat_minor": 2
}
