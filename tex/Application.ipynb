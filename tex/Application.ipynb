{
 "cells": [
  {
   "cell_type": "code",
   "execution_count": 74,
   "metadata": {},
   "outputs": [],
   "source": [
    "import pandas as pd\n",
    "import string\n",
    "import nltk\n",
    "from nltk.tokenize import sent_tokenize, word_tokenize\n",
    "import numpy as np\n",
    "from urllib.request import urlopen\n",
    "import re\n",
    "from nltk.corpus import stopwords\n",
    "import html2text\n",
    "import gensim\n",
    "import gensim.downloader as api\n",
    "from gensim.models import word2vec"
   ]
  },
  {
   "cell_type": "code",
   "execution_count": 1,
   "metadata": {},
   "outputs": [],
   "source": [
    "Dutch = 'https://www.gutenberg.org/cache/epub/39181/pg39181-images.html'\n",
    "English = \"https://www.gutenberg.org/cache/epub/1004/pg1004-images.html\"\n",
    "Finnish = \"https://www.gutenberg.org/cache/epub/12546/pg12546.html\"\n",
    "German = \"https://www.gutenberg.org/cache/epub/8085/pg8085.html\"\n",
    "Italian = \"https://www.gutenberg.org/cache/epub/1000/pg1000-images.html\"\n",
    "\n",
    "languages = [Dutch, German, Italian, English, Finnish]\n",
    "names = ['Dutch', 'German', 'Italian', 'English', 'Finnish']"
   ]
  },
  {
   "cell_type": "code",
   "execution_count": 45,
   "metadata": {},
   "outputs": [],
   "source": [
    "Dutch = open('Dutch.txt').read()\n",
    "English = open('English.txt').read()\n",
    "Finnish = open('Finnish.txt').read()\n",
    "German = open('German.txt').read()\n",
    "Italian = open('Italian.txt').read()"
   ]
  },
  {
   "cell_type": "code",
   "execution_count": 90,
   "metadata": {},
   "outputs": [],
   "source": [
    "def data_tokenizer(language, language_name, encoding = 'utf-8'):\n",
    "    tokenized = nltk.word_tokenize(language)\n",
    "    f=[word.lower() for word in tokenized if word.isalpha()]\n",
    "    stop_words = set(nltk.corpus.stopwords.words('english')) | set(nltk.corpus.stopwords.words(language_name))\n",
    "    [stopped] = [[i for i in j if i not in stop_words] for j in [f]]\n",
    "    return stopped"
   ]
  },
  {
   "cell_type": "code",
   "execution_count": 91,
   "metadata": {},
   "outputs": [],
   "source": [
    "tokenized_English = data_tokenizer(English,'English')\n",
    "tokenized_German = data_tokenizer(German,'German')\n",
    "tokenized_Italian = data_tokenizer(Italian,'Italian')\n",
    "tokenized_Dutch = data_tokenizer(Dutch,'Dutch')\n",
    "#tokenized_Spanish = data_tokenizer(Spanish,'Spanish')\n",
    "tokenized_Finnish = data_tokenizer(Finnish,'Finnish')\n",
    "tokenized_names = 'tokenized_'+pd.Series(names)\n",
    "tokenized_languages = [tokenized_Dutch, tokenized_German, tokenized_Italian, tokenized_English, tokenized_Finnish]"
   ]
  },
  {
   "cell_type": "code",
   "execution_count": 95,
   "metadata": {},
   "outputs": [],
   "source": [
    "def most_common_words(lang):\n",
    "    df = pd.DataFrame(lang, columns = ['Language'])\n",
    "    df_sorted = df.groupby(['Language'])['Language'].count().reset_index(\n",
    "                        name='Count').sort_values(['Count'], ascending=False)\n",
    "    return df_sorted.Language[:150].reset_index(drop=True)\n"
   ]
  },
  {
   "cell_type": "code",
   "execution_count": 96,
   "metadata": {},
   "outputs": [
    {
     "data": {
      "text/html": [
       "<div>\n",
       "<style scoped>\n",
       "    .dataframe tbody tr th:only-of-type {\n",
       "        vertical-align: middle;\n",
       "    }\n",
       "\n",
       "    .dataframe tbody tr th {\n",
       "        vertical-align: top;\n",
       "    }\n",
       "\n",
       "    .dataframe thead th {\n",
       "        text-align: right;\n",
       "    }\n",
       "</style>\n",
       "<table border=\"1\" class=\"dataframe\">\n",
       "  <thead>\n",
       "    <tr style=\"text-align: right;\">\n",
       "      <th></th>\n",
       "      <th>English</th>\n",
       "      <th>German</th>\n",
       "      <th>Italian</th>\n",
       "      <th>Dutch</th>\n",
       "      <th>Finnish</th>\n",
       "    </tr>\n",
       "  </thead>\n",
       "  <tbody>\n",
       "    <tr>\n",
       "      <th>0</th>\n",
       "      <td>thou</td>\n",
       "      <td>sprach</td>\n",
       "      <td>ch</td>\n",
       "      <td>den</td>\n",
       "      <td>mi</td>\n",
       "    </tr>\n",
       "    <tr>\n",
       "      <th>1</th>\n",
       "      <td>one</td>\n",
       "      <td>sah</td>\n",
       "      <td>sì</td>\n",
       "      <td>gij</td>\n",
       "      <td>mut</td>\n",
       "    </tr>\n",
       "    <tr>\n",
       "      <th>2</th>\n",
       "      <td>thee</td>\n",
       "      <td>drum</td>\n",
       "      <td>de</td>\n",
       "      <td>zoo</td>\n",
       "      <td>näin</td>\n",
       "    </tr>\n",
       "    <tr>\n",
       "      <th>3</th>\n",
       "      <td>unto</td>\n",
       "      <td>schon</td>\n",
       "      <td>quel</td>\n",
       "      <td>zóó</td>\n",
       "      <td>sa</td>\n",
       "    </tr>\n",
       "    <tr>\n",
       "      <th>4</th>\n",
       "      <td>upon</td>\n",
       "      <td>mehr</td>\n",
       "      <td>poi</td>\n",
       "      <td>wanneer</td>\n",
       "      <td>mun</td>\n",
       "    </tr>\n",
       "    <tr>\n",
       "      <th>...</th>\n",
       "      <td>...</td>\n",
       "      <td>...</td>\n",
       "      <td>...</td>\n",
       "      <td>...</td>\n",
       "      <td>...</td>\n",
       "    </tr>\n",
       "    <tr>\n",
       "      <th>145</th>\n",
       "      <td>ere</td>\n",
       "      <td>fand</td>\n",
       "      <td>color</td>\n",
       "      <td>nacht</td>\n",
       "      <td>eessä</td>\n",
       "    </tr>\n",
       "    <tr>\n",
       "      <th>146</th>\n",
       "      <td>whose</td>\n",
       "      <td>zurück</td>\n",
       "      <td>mezzo</td>\n",
       "      <td>gericht</td>\n",
       "      <td>näyttää</td>\n",
       "    </tr>\n",
       "    <tr>\n",
       "      <th>147</th>\n",
       "      <td>guide</td>\n",
       "      <td>läßt</td>\n",
       "      <td>indi</td>\n",
       "      <td>dichter</td>\n",
       "      <td>taivas</td>\n",
       "    </tr>\n",
       "    <tr>\n",
       "      <th>148</th>\n",
       "      <td>went</td>\n",
       "      <td>rede</td>\n",
       "      <td>sole</td>\n",
       "      <td>staan</td>\n",
       "      <td>beatrice</td>\n",
       "    </tr>\n",
       "    <tr>\n",
       "      <th>149</th>\n",
       "      <td>greater</td>\n",
       "      <td>tut</td>\n",
       "      <td>ove</td>\n",
       "      <td>maken</td>\n",
       "      <td>tahto</td>\n",
       "    </tr>\n",
       "  </tbody>\n",
       "</table>\n",
       "<p>150 rows × 5 columns</p>\n",
       "</div>"
      ],
      "text/plain": [
       "     English  German Italian    Dutch   Finnish\n",
       "0       thou  sprach      ch      den        mi\n",
       "1        one     sah      sì      gij       mut\n",
       "2       thee    drum      de      zoo      näin\n",
       "3       unto   schon    quel      zóó        sa\n",
       "4       upon    mehr     poi  wanneer       mun\n",
       "..       ...     ...     ...      ...       ...\n",
       "145      ere    fand   color    nacht     eessä\n",
       "146    whose  zurück   mezzo  gericht   näyttää\n",
       "147    guide    läßt    indi  dichter    taivas\n",
       "148     went    rede    sole    staan  beatrice\n",
       "149  greater     tut     ove    maken     tahto\n",
       "\n",
       "[150 rows x 5 columns]"
      ]
     },
     "execution_count": 96,
     "metadata": {},
     "output_type": "execute_result"
    }
   ],
   "source": [
    "eng150 = most_common_words(tokenized_English)\n",
    "ger150 = most_common_words(tokenized_German)\n",
    "ita150 = most_common_words(tokenized_Italian)\n",
    "dut150 = most_common_words(tokenized_Dutch)\n",
    "#spa150 = most_common_words(tokenized_Spanish)\n",
    "fin150 = most_common_words(tokenized_Finnish)\n",
    "\n",
    "token_df = pd.DataFrame([eng150, ger150, ita150, dut150, fin150], index = [\"English\",\"German\",\"Italian\",\"Dutch\",\"Finnish\"]).T\n",
    "\n",
    "token_df"
   ]
  },
  {
   "cell_type": "code",
   "execution_count": 98,
   "metadata": {},
   "outputs": [
    {
     "name": "stderr",
     "output_type": "stream",
     "text": [
      "Some weights of the model checkpoint at bert-base-multilingual-cased were not used when initializing BertModel: ['cls.predictions.bias', 'cls.predictions.transform.dense.bias', 'cls.predictions.transform.LayerNorm.bias', 'cls.predictions.transform.dense.weight', 'cls.seq_relationship.bias', 'cls.predictions.decoder.weight', 'cls.seq_relationship.weight', 'cls.predictions.transform.LayerNorm.weight']\n",
      "- This IS expected if you are initializing BertModel from the checkpoint of a model trained on another task or with another architecture (e.g. initializing a BertForSequenceClassification model from a BertForPreTraining model).\n",
      "- This IS NOT expected if you are initializing BertModel from the checkpoint of a model that you expect to be exactly identical (initializing a BertForSequenceClassification model from a BertForSequenceClassification model).\n",
      "2023-06-08 03:19:27,800 - simalign.simalign - INFO - Initialized the EmbeddingLoader with model: bert-base-multilingual-cased\n"
     ]
    }
   ],
   "source": [
    "from simalign import SentenceAligner\n",
    "aligner = SentenceAligner(model=\"bert\", token_type=\"bpe\", matching_methods=\"mai\")"
   ]
  },
  {
   "cell_type": "code",
   "execution_count": 99,
   "metadata": {},
   "outputs": [],
   "source": [
    "def alingment(lang150):\n",
    "    aligned = aligner.get_word_aligns(eng150.to_list(), lang150.to_list())\n",
    "    mwmf = pd.DataFrame(aligned['mwmf'])\n",
    "    return lang150.reindex(mwmf[1])"
   ]
  },
  {
   "cell_type": "code",
   "execution_count": 100,
   "metadata": {},
   "outputs": [],
   "source": [
    "ger_aligned = alingment(ger150)\n",
    "ita_aligned = alingment(ita150)\n",
    "dut_aligned = alingment(dut150)\n",
    "#spa_aligned = alingment(spa150)\n",
    "fin_aligned = alingment(fin150)\n"
   ]
  },
  {
   "cell_type": "code",
   "execution_count": 102,
   "metadata": {},
   "outputs": [],
   "source": [
    "aligned_df = pd.DataFrame([eng150, ger_aligned.reset_index(drop =True), ita_aligned.reset_index(drop =True), \n",
    "                           dut_aligned.reset_index(drop =True), fin_aligned.reset_index(drop =True)], index = [\"English\",\"German\",\"Italian\",\"Dutch\",\"Finnish\"]).T"
   ]
  },
  {
   "cell_type": "code",
   "execution_count": 103,
   "metadata": {},
   "outputs": [
    {
     "data": {
      "text/html": [
       "<div>\n",
       "<style scoped>\n",
       "    .dataframe tbody tr th:only-of-type {\n",
       "        vertical-align: middle;\n",
       "    }\n",
       "\n",
       "    .dataframe tbody tr th {\n",
       "        vertical-align: top;\n",
       "    }\n",
       "\n",
       "    .dataframe thead th {\n",
       "        text-align: right;\n",
       "    }\n",
       "</style>\n",
       "<table border=\"1\" class=\"dataframe\">\n",
       "  <thead>\n",
       "    <tr style=\"text-align: right;\">\n",
       "      <th></th>\n",
       "      <th>English</th>\n",
       "      <th>German</th>\n",
       "      <th>Italian</th>\n",
       "      <th>Dutch</th>\n",
       "      <th>Finnish</th>\n",
       "    </tr>\n",
       "  </thead>\n",
       "  <tbody>\n",
       "    <tr>\n",
       "      <th>0</th>\n",
       "      <td>thou</td>\n",
       "      <td>wort</td>\n",
       "      <td>ch</td>\n",
       "      <td>den</td>\n",
       "      <td>mi</td>\n",
       "    </tr>\n",
       "    <tr>\n",
       "      <th>1</th>\n",
       "      <td>one</td>\n",
       "      <td>mehr</td>\n",
       "      <td>sì</td>\n",
       "      <td>gij</td>\n",
       "      <td>mut</td>\n",
       "    </tr>\n",
       "    <tr>\n",
       "      <th>2</th>\n",
       "      <td>thee</td>\n",
       "      <td>sieh</td>\n",
       "      <td>de</td>\n",
       "      <td>zoo</td>\n",
       "      <td>sa</td>\n",
       "    </tr>\n",
       "    <tr>\n",
       "      <th>3</th>\n",
       "      <td>unto</td>\n",
       "      <td>kreise</td>\n",
       "      <td>quel</td>\n",
       "      <td>eene</td>\n",
       "      <td>mut</td>\n",
       "    </tr>\n",
       "    <tr>\n",
       "      <th>4</th>\n",
       "      <td>upon</td>\n",
       "      <td>blick</td>\n",
       "      <td>ogne</td>\n",
       "      <td>zóó</td>\n",
       "      <td>mulle</td>\n",
       "    </tr>\n",
       "    <tr>\n",
       "      <th>...</th>\n",
       "      <td>...</td>\n",
       "      <td>...</td>\n",
       "      <td>...</td>\n",
       "      <td>...</td>\n",
       "      <td>...</td>\n",
       "    </tr>\n",
       "    <tr>\n",
       "      <th>161</th>\n",
       "      <td>NaN</td>\n",
       "      <td>zurück</td>\n",
       "      <td>può</td>\n",
       "      <td>NaN</td>\n",
       "      <td>eessä</td>\n",
       "    </tr>\n",
       "    <tr>\n",
       "      <th>162</th>\n",
       "      <td>NaN</td>\n",
       "      <td>tut</td>\n",
       "      <td>ove</td>\n",
       "      <td>NaN</td>\n",
       "      <td>käännyin</td>\n",
       "    </tr>\n",
       "    <tr>\n",
       "      <th>163</th>\n",
       "      <td>NaN</td>\n",
       "      <td>NaN</td>\n",
       "      <td>NaN</td>\n",
       "      <td>NaN</td>\n",
       "      <td>tietää</td>\n",
       "    </tr>\n",
       "    <tr>\n",
       "      <th>164</th>\n",
       "      <td>NaN</td>\n",
       "      <td>NaN</td>\n",
       "      <td>NaN</td>\n",
       "      <td>NaN</td>\n",
       "      <td>tuota</td>\n",
       "    </tr>\n",
       "    <tr>\n",
       "      <th>165</th>\n",
       "      <td>NaN</td>\n",
       "      <td>NaN</td>\n",
       "      <td>NaN</td>\n",
       "      <td>NaN</td>\n",
       "      <td>tahto</td>\n",
       "    </tr>\n",
       "  </tbody>\n",
       "</table>\n",
       "<p>166 rows × 5 columns</p>\n",
       "</div>"
      ],
      "text/plain": [
       "    English  German Italian Dutch   Finnish\n",
       "0      thou    wort      ch   den        mi\n",
       "1       one    mehr      sì   gij       mut\n",
       "2      thee    sieh      de   zoo        sa\n",
       "3      unto  kreise    quel  eene       mut\n",
       "4      upon   blick    ogne   zóó     mulle\n",
       "..      ...     ...     ...   ...       ...\n",
       "161     NaN  zurück     può   NaN     eessä\n",
       "162     NaN     tut     ove   NaN  käännyin\n",
       "163     NaN     NaN     NaN   NaN    tietää\n",
       "164     NaN     NaN     NaN   NaN     tuota\n",
       "165     NaN     NaN     NaN   NaN     tahto\n",
       "\n",
       "[166 rows x 5 columns]"
      ]
     },
     "execution_count": 103,
     "metadata": {},
     "output_type": "execute_result"
    }
   ],
   "source": [
    "aligned_df"
   ]
  },
  {
   "cell_type": "code",
   "execution_count": 105,
   "metadata": {},
   "outputs": [],
   "source": [
    "tokenized_English = eng150\n",
    "tokenized_German = ger_aligned\n",
    "tokenized_Italian = ita_aligned\n",
    "tokenized_Dutch = dut_aligned\n",
    "#tokenized_Spanish = spa_aligned\n",
    "tokenized_Finnish = fin_aligned"
   ]
  },
  {
   "cell_type": "code",
   "execution_count": 106,
   "metadata": {},
   "outputs": [],
   "source": [
    "def skipgram(language):\n",
    "    return gensim.models.Word2Vec(language, vector_size = 50, sg = 1).wv\n",
    "def cbow(language):\n",
    "    return gensim.models.Word2Vec(language, vector_size = 50,sg = 0).wv"
   ]
  },
  {
   "cell_type": "code",
   "execution_count": 107,
   "metadata": {},
   "outputs": [],
   "source": [
    "skipgram_English = skipgram(tokenized_English)\n",
    "cbow_English = cbow(tokenized_English)\n",
    "skipgram_Dutch = skipgram(tokenized_Dutch)\n",
    "cbow_Dutch = cbow(tokenized_Dutch)\n",
    "skipgram_German = skipgram(tokenized_German)\n",
    "cbow_German = cbow(tokenized_German)\n",
    "skipgram_Italian = skipgram(tokenized_Italian)\n",
    "cbow_Italian = cbow(tokenized_Italian)\n",
    "#skipgram_Spanish = skipgram(tokenized_Spanish)\n",
    "#cbow_Spanish = cbow(tokenized_Spanish)\n",
    "skipgram_Finnish = skipgram(tokenized_Finnish)\n",
    "cbow_Finnish = cbow(tokenized_Finnish)\n",
    " "
   ]
  },
  {
   "cell_type": "code",
   "execution_count": 108,
   "metadata": {},
   "outputs": [],
   "source": [
    "cbow = [cbow_Dutch, cbow_German, cbow_Italian, cbow_English, cbow_Finnish]\n",
    "cbow_names = 'cbow_'+pd.Series(names)\n",
    "skipgram = [skipgram_Dutch, skipgram_German, skipgram_Italian, skipgram_English, skipgram_Finnish]\n",
    "skipgram_names = 'skipgram_'+pd.Series(names)"
   ]
  },
  {
   "cell_type": "code",
   "execution_count": 109,
   "metadata": {},
   "outputs": [],
   "source": [
    "import matplotlib.pyplot as plt\n",
    "\n",
    "def flat(model):\n",
    "    vocab = list(model.index_to_key)\n",
    "    vectors = model[vocab]\n",
    "    vectors_flatten = vectors.flatten()\n",
    "    return vectors_flatten"
   ]
  },
  {
   "cell_type": "code",
   "execution_count": 110,
   "metadata": {},
   "outputs": [],
   "source": [
    "flat_skipgram_Dutch = flat(skipgram_Dutch)\n",
    "flat_skipgram_German = flat(skipgram_German)\n",
    "flat_skipgram_Italian = flat(skipgram_Italian)\n",
    "flat_skipgram_English = flat(skipgram_English)\n",
    "#flat_skipgram_Spanish = flat(skipgram_Spanish)\n",
    "flat_skipgram_Finnish = flat(skipgram_Finnish)\n",
    "\n",
    "flat_cbow_Dutch = flat(cbow_Dutch)\n",
    "flat_cbow_German = flat(cbow_German)\n",
    "flat_cbow_Italian = flat(cbow_Italian)\n",
    "flat_cbow_English = flat(cbow_English)\n",
    "#flat_cbow_Spanish = flat(cbow_Spanish)\n",
    "flat_cbow_Finnish = flat(cbow_Finnish)\n"
   ]
  },
  {
   "cell_type": "code",
   "execution_count": 111,
   "metadata": {},
   "outputs": [],
   "source": [
    "var_holder = {}\n",
    "for i in cbow:\n",
    "    langname = names[cbow.index(i)]\n",
    "    var_holder['flat_cbow_' + langname]= flat(i)\n",
    "\n",
    "locals().update(var_holder)\n",
    "flat_cbow_names = 'flat_cbow_'+pd.Series(names)"
   ]
  },
  {
   "cell_type": "code",
   "execution_count": 112,
   "metadata": {},
   "outputs": [
    {
     "data": {
      "image/png": "[encoded data removed]",
      "text/plain": [
       "<Figure size 1440x720 with 1 Axes>"
      ]
     },
     "metadata": {
      "needs_background": "light"
     },
     "output_type": "display_data"
    }
   ],
   "source": [
    "def plot(model, color = 'blue'):\n",
    "    plt.scatter(model[:100], np.arange(0,100), marker=\".\",c= color)\n",
    "plt.figure(figsize=(20,10))\n",
    "plt.title('Contuniuous Bag of Words (CBOW)')\n",
    "#plotting functions against their indexes\n",
    "plot(flat_cbow_Dutch, color = 'blue')\n",
    "plot(flat_cbow_German, color = 'red')\n",
    "plot(flat_cbow_Italian, color = 'green')\n",
    "plot(flat_cbow_English, color = 'yellow')\n",
    "#plot(flat_cbow_Spanish, color = 'black')\n",
    "plot(flat_cbow_Finnish, color = 'purple')\n",
    "\n",
    "plt.legend(names)\n",
    "plt.show()"
   ]
  },
  {
   "cell_type": "code",
   "execution_count": 113,
   "metadata": {},
   "outputs": [
    {
     "data": {
      "image/png": "[encoded data removed]",
      "text/plain": [
       "<Figure size 1440x720 with 1 Axes>"
      ]
     },
     "metadata": {
      "needs_background": "light"
     },
     "output_type": "display_data"
    }
   ],
   "source": [
    "plt.figure(figsize=(20,10))\n",
    "plt.title('Skipgram')\n",
    "plot(flat_skipgram_Dutch, color = 'blue')\n",
    "plot(flat_skipgram_German, color = 'red')\n",
    "plot(flat_skipgram_Italian, color = 'green')\n",
    "plot(flat_skipgram_English, color = 'yellow')\n",
    "#plot(flat_skipgram_Spanish, color = 'black')\n",
    "plot(flat_skipgram_Finnish, color = 'purple')\n",
    "plt.legend(names)\n",
    "plt.show()"
   ]
  },
  {
   "cell_type": "code",
   "execution_count": 120,
   "metadata": {},
   "outputs": [],
   "source": [
    "from sklearn.metrics.pairwise import cosine_similarity\n",
    "for_sim = pd.DataFrame([flat_skipgram_Dutch, flat_skipgram_German, flat_skipgram_Italian, flat_skipgram_English, flat_skipgram_Finnish][:100])\n",
    "for_sim.index = [\"Dutch\",\"German\",\"Italian\",\"English\",\"Finnish\"]\n",
    "for_sim.dropna(axis = 1,inplace=True)"
   ]
  },
  {
   "cell_type": "code",
   "execution_count": 121,
   "metadata": {},
   "outputs": [
    {
     "data": {
      "text/html": [
       "<div>\n",
       "<style scoped>\n",
       "    .dataframe tbody tr th:only-of-type {\n",
       "        vertical-align: middle;\n",
       "    }\n",
       "\n",
       "    .dataframe tbody tr th {\n",
       "        vertical-align: top;\n",
       "    }\n",
       "\n",
       "    .dataframe thead th {\n",
       "        text-align: right;\n",
       "    }\n",
       "</style>\n",
       "<table border=\"1\" class=\"dataframe\">\n",
       "  <thead>\n",
       "    <tr style=\"text-align: right;\">\n",
       "      <th></th>\n",
       "      <th>0</th>\n",
       "      <th>1</th>\n",
       "      <th>2</th>\n",
       "      <th>3</th>\n",
       "      <th>4</th>\n",
       "    </tr>\n",
       "  </thead>\n",
       "  <tbody>\n",
       "    <tr>\n",
       "      <th>0</th>\n",
       "      <td>0.999999</td>\n",
       "      <td>0.998921</td>\n",
       "      <td>0.998574</td>\n",
       "      <td>0.999007</td>\n",
       "      <td>0.998917</td>\n",
       "    </tr>\n",
       "    <tr>\n",
       "      <th>1</th>\n",
       "      <td>0.998921</td>\n",
       "      <td>1.000000</td>\n",
       "      <td>0.999316</td>\n",
       "      <td>0.999607</td>\n",
       "      <td>0.999064</td>\n",
       "    </tr>\n",
       "    <tr>\n",
       "      <th>2</th>\n",
       "      <td>0.998574</td>\n",
       "      <td>0.999316</td>\n",
       "      <td>1.000000</td>\n",
       "      <td>0.999758</td>\n",
       "      <td>0.998925</td>\n",
       "    </tr>\n",
       "    <tr>\n",
       "      <th>3</th>\n",
       "      <td>0.999007</td>\n",
       "      <td>0.999607</td>\n",
       "      <td>0.999758</td>\n",
       "      <td>1.000000</td>\n",
       "      <td>0.999285</td>\n",
       "    </tr>\n",
       "    <tr>\n",
       "      <th>4</th>\n",
       "      <td>0.998917</td>\n",
       "      <td>0.999064</td>\n",
       "      <td>0.998925</td>\n",
       "      <td>0.999285</td>\n",
       "      <td>1.000000</td>\n",
       "    </tr>\n",
       "  </tbody>\n",
       "</table>\n",
       "</div>"
      ],
      "text/plain": [
       "          0         1         2         3         4\n",
       "0  0.999999  0.998921  0.998574  0.999007  0.998917\n",
       "1  0.998921  1.000000  0.999316  0.999607  0.999064\n",
       "2  0.998574  0.999316  1.000000  0.999758  0.998925\n",
       "3  0.999007  0.999607  0.999758  1.000000  0.999285\n",
       "4  0.998917  0.999064  0.998925  0.999285  1.000000"
      ]
     },
     "execution_count": 121,
     "metadata": {},
     "output_type": "execute_result"
    }
   ],
   "source": [
    "from sklearn.metrics.pairwise import cosine_similarity\n",
    "\n",
    "sim = cosine_similarity(for_sim)\n",
    "pd.DataFrame(sim)"
   ]
  },
  {
   "cell_type": "code",
   "execution_count": 124,
   "metadata": {},
   "outputs": [
    {
     "data": {
      "image/png": "[encoded data removed]",
      "text/plain": [
       "<Figure size 1152x648 with 1 Axes>"
      ]
     },
     "metadata": {
      "needs_background": "light"
     },
     "output_type": "display_data"
    }
   ],
   "source": [
    "from scipy.cluster.hierarchy import dendrogram, linkage\n",
    "Z = linkage(sim, 'ward')\n",
    "plt.figure(figsize=(16, 9))\n",
    "labels = for_sim.columns\n",
    "dendrogram(Z, leaf_rotation=90, leaf_font_size=7., labels = for_sim.index)\n",
    "plt.title('Dendrogram')\n",
    "plt.ylabel('Distance')\n",
    "plt.xlabel('Language')\n",
    "plt.xticks(rotation = 45, fontsize = 10)\n",
    "\n",
    "plt.show()"
   ]
  },
  {
   "cell_type": "code",
   "execution_count": 127,
   "metadata": {},
   "outputs": [],
   "source": [
    "for_sim_cbow = pd.DataFrame([flat_cbow_Dutch, flat_cbow_German, flat_cbow_Italian, flat_cbow_English, flat_cbow_Finnish][:100])\n",
    "for_sim_cbow.index = [\"Dutch\",\"German\",\"Italian\",\"English\",\"Finnish\"]\n",
    "for_sim_cbow.dropna(axis = 1, inplace = True)\n"
   ]
  },
  {
   "cell_type": "code",
   "execution_count": 128,
   "metadata": {},
   "outputs": [
    {
     "data": {
      "text/html": [
       "<div>\n",
       "<style scoped>\n",
       "    .dataframe tbody tr th:only-of-type {\n",
       "        vertical-align: middle;\n",
       "    }\n",
       "\n",
       "    .dataframe tbody tr th {\n",
       "        vertical-align: top;\n",
       "    }\n",
       "\n",
       "    .dataframe thead th {\n",
       "        text-align: right;\n",
       "    }\n",
       "</style>\n",
       "<table border=\"1\" class=\"dataframe\">\n",
       "  <thead>\n",
       "    <tr style=\"text-align: right;\">\n",
       "      <th></th>\n",
       "      <th>0</th>\n",
       "      <th>1</th>\n",
       "      <th>2</th>\n",
       "      <th>3</th>\n",
       "      <th>4</th>\n",
       "    </tr>\n",
       "  </thead>\n",
       "  <tbody>\n",
       "    <tr>\n",
       "      <th>0</th>\n",
       "      <td>1.000000</td>\n",
       "      <td>0.999428</td>\n",
       "      <td>0.999250</td>\n",
       "      <td>0.999526</td>\n",
       "      <td>0.999386</td>\n",
       "    </tr>\n",
       "    <tr>\n",
       "      <th>1</th>\n",
       "      <td>0.999428</td>\n",
       "      <td>1.000001</td>\n",
       "      <td>0.999611</td>\n",
       "      <td>0.999744</td>\n",
       "      <td>0.999494</td>\n",
       "    </tr>\n",
       "    <tr>\n",
       "      <th>2</th>\n",
       "      <td>0.999250</td>\n",
       "      <td>0.999611</td>\n",
       "      <td>1.000000</td>\n",
       "      <td>0.999838</td>\n",
       "      <td>0.999214</td>\n",
       "    </tr>\n",
       "    <tr>\n",
       "      <th>3</th>\n",
       "      <td>0.999526</td>\n",
       "      <td>0.999744</td>\n",
       "      <td>0.999838</td>\n",
       "      <td>1.000000</td>\n",
       "      <td>0.999436</td>\n",
       "    </tr>\n",
       "    <tr>\n",
       "      <th>4</th>\n",
       "      <td>0.999386</td>\n",
       "      <td>0.999494</td>\n",
       "      <td>0.999214</td>\n",
       "      <td>0.999436</td>\n",
       "      <td>1.000000</td>\n",
       "    </tr>\n",
       "  </tbody>\n",
       "</table>\n",
       "</div>"
      ],
      "text/plain": [
       "          0         1         2         3         4\n",
       "0  1.000000  0.999428  0.999250  0.999526  0.999386\n",
       "1  0.999428  1.000001  0.999611  0.999744  0.999494\n",
       "2  0.999250  0.999611  1.000000  0.999838  0.999214\n",
       "3  0.999526  0.999744  0.999838  1.000000  0.999436\n",
       "4  0.999386  0.999494  0.999214  0.999436  1.000000"
      ]
     },
     "execution_count": 128,
     "metadata": {},
     "output_type": "execute_result"
    }
   ],
   "source": [
    "sim_cbow = cosine_similarity(for_sim_cbow)\n",
    "pd.DataFrame(sim_cbow)\n"
   ]
  },
  {
   "cell_type": "code",
   "execution_count": 129,
   "metadata": {},
   "outputs": [
    {
     "data": {
      "text/plain": [
       "(array([ 5, 15, 25, 35, 45]),\n",
       " [Text(5, 0, 'Italian'),\n",
       "  Text(15, 0, 'German'),\n",
       "  Text(25, 0, 'English'),\n",
       "  Text(35, 0, 'Dutch'),\n",
       "  Text(45, 0, 'Finnish')])"
      ]
     },
     "execution_count": 129,
     "metadata": {},
     "output_type": "execute_result"
    },
    {
     "data": {
      "image/png": "[encoded data removed]",
      "text/plain": [
       "<Figure size 1152x648 with 1 Axes>"
      ]
     },
     "metadata": {
      "needs_background": "light"
     },
     "output_type": "display_data"
    }
   ],
   "source": [
    "Z_cbow = linkage(sim_cbow, 'ward')\n",
    "plt.figure(figsize=(16, 9))\n",
    "labels = for_sim_cbow.columns\n",
    "dendrogram(Z_cbow, leaf_rotation=90, leaf_font_size=7., labels = for_sim_cbow.index)\n",
    "plt.title('Dendrogram')\n",
    "plt.ylabel('Distance')\n",
    "plt.xlabel('Language')\n",
    "plt.xticks(rotation = 45, fontsize = 10)\n"
   ]
  }
 ],
 "metadata": {
  "kernelspec": {
   "display_name": "base",
   "language": "python",
   "name": "python3"
  },
  "language_info": {
   "codemirror_mode": {
    "name": "ipython",
    "version": 3
   },
   "file_extension": ".py",
   "mimetype": "text/x-python",
   "name": "python",
   "nbconvert_exporter": "python",
   "pygments_lexer": "ipython3",
   "version": "3.9.12"
  },
  "orig_nbformat": 4
 },
 "nbformat": 4,
 "nbformat_minor": 2
}
